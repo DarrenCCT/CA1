{
 "cells": [
  {
   "cell_type": "code",
   "execution_count": 3,
   "id": "cfac1592",
   "metadata": {},
   "outputs": [],
   "source": [
    "#Import libraries\n",
    "import pandas as pd\n",
    "import seaborn as sns\n",
    "import scipy\n",
    "import numpy as np\n",
    "from numpy import random\n",
    "from numpy import mean\n",
    "import matplotlib.pyplot as plt\n",
    "import sklearn\n",
    "from datetime import timedelta\n",
    "from scipy import stats\n",
    "from scipy.stats import poisson\n",
    "from sklearn.tree import DecisionTreeClassifier\n",
    "from sklearn.model_selection import train_test_split\n",
    "from sklearn.metrics import accuracy_score\n",
    "from sklearn import tree\n",
    "from sklearn import metrics\n",
    "from sklearn.metrics import plot_confusion_matrix\n",
    "from sklearn.linear_model import LinearRegression\n",
    "from sklearn.model_selection import cross_val_score\n",
    "from sklearn.model_selection import KFold\n",
    "from sklearn.model_selection import GridSearchCV\n",
    "from sklearn.feature_selection import RFE\n",
    "from sklearn.svm import SVC\n",
    "from statistics import NormalDist\n",
    "from sklearn.preprocessing import StandardScaler"
   ]
  },
  {
   "cell_type": "markdown",
   "id": "8762b53f",
   "metadata": {},
   "source": [
    "# 1. Getting Started"
   ]
  },
  {
   "cell_type": "code",
   "execution_count": 4,
   "id": "87eabd22",
   "metadata": {},
   "outputs": [],
   "source": [
    "#Read in dataset\n",
    "df = pd.read_csv(\"capel-st-2015.csv\")"
   ]
  },
  {
   "cell_type": "code",
   "execution_count": 5,
   "id": "ffbc4cbf",
   "metadata": {},
   "outputs": [
    {
     "data": {
      "text/plain": [
       "(365, 4)"
      ]
     },
     "execution_count": 5,
     "metadata": {},
     "output_type": "execute_result"
    }
   ],
   "source": [
    "df.shape"
   ]
  },
  {
   "cell_type": "code",
   "execution_count": 6,
   "id": "ff481353",
   "metadata": {},
   "outputs": [
    {
     "data": {
      "text/html": [
       "<div>\n",
       "<style scoped>\n",
       "    .dataframe tbody tr th:only-of-type {\n",
       "        vertical-align: middle;\n",
       "    }\n",
       "\n",
       "    .dataframe tbody tr th {\n",
       "        vertical-align: top;\n",
       "    }\n",
       "\n",
       "    .dataframe thead th {\n",
       "        text-align: right;\n",
       "    }\n",
       "</style>\n",
       "<table border=\"1\" class=\"dataframe\">\n",
       "  <thead>\n",
       "    <tr style=\"text-align: right;\">\n",
       "      <th></th>\n",
       "      <th>Date</th>\n",
       "      <th>Capel_Street</th>\n",
       "      <th>IN</th>\n",
       "      <th>OUT</th>\n",
       "    </tr>\n",
       "  </thead>\n",
       "  <tbody>\n",
       "    <tr>\n",
       "      <th>0</th>\n",
       "      <td>01/01/2015</td>\n",
       "      <td>3481</td>\n",
       "      <td>1593</td>\n",
       "      <td>1888</td>\n",
       "    </tr>\n",
       "    <tr>\n",
       "      <th>1</th>\n",
       "      <td>02/01/2015</td>\n",
       "      <td>4437</td>\n",
       "      <td>2150</td>\n",
       "      <td>2287</td>\n",
       "    </tr>\n",
       "    <tr>\n",
       "      <th>2</th>\n",
       "      <td>03/01/2015</td>\n",
       "      <td>5278</td>\n",
       "      <td>2819</td>\n",
       "      <td>2459</td>\n",
       "    </tr>\n",
       "    <tr>\n",
       "      <th>3</th>\n",
       "      <td>04/01/2015</td>\n",
       "      <td>4098</td>\n",
       "      <td>2020</td>\n",
       "      <td>2078</td>\n",
       "    </tr>\n",
       "    <tr>\n",
       "      <th>4</th>\n",
       "      <td>05/01/2015</td>\n",
       "      <td>5757</td>\n",
       "      <td>3162</td>\n",
       "      <td>2595</td>\n",
       "    </tr>\n",
       "  </tbody>\n",
       "</table>\n",
       "</div>"
      ],
      "text/plain": [
       "         Date  Capel_Street    IN   OUT\n",
       "0  01/01/2015          3481  1593  1888\n",
       "1  02/01/2015          4437  2150  2287\n",
       "2  03/01/2015          5278  2819  2459\n",
       "3  04/01/2015          4098  2020  2078\n",
       "4  05/01/2015          5757  3162  2595"
      ]
     },
     "execution_count": 6,
     "metadata": {},
     "output_type": "execute_result"
    }
   ],
   "source": [
    "df.head(5)"
   ]
  },
  {
   "cell_type": "code",
   "execution_count": 7,
   "id": "77594f9e",
   "metadata": {},
   "outputs": [
    {
     "data": {
      "text/html": [
       "<div>\n",
       "<style scoped>\n",
       "    .dataframe tbody tr th:only-of-type {\n",
       "        vertical-align: middle;\n",
       "    }\n",
       "\n",
       "    .dataframe tbody tr th {\n",
       "        vertical-align: top;\n",
       "    }\n",
       "\n",
       "    .dataframe thead th {\n",
       "        text-align: right;\n",
       "    }\n",
       "</style>\n",
       "<table border=\"1\" class=\"dataframe\">\n",
       "  <thead>\n",
       "    <tr style=\"text-align: right;\">\n",
       "      <th></th>\n",
       "      <th>Date</th>\n",
       "      <th>Capel_Street</th>\n",
       "      <th>IN</th>\n",
       "      <th>OUT</th>\n",
       "    </tr>\n",
       "  </thead>\n",
       "  <tbody>\n",
       "    <tr>\n",
       "      <th>360</th>\n",
       "      <td>27/12/2015</td>\n",
       "      <td>4481</td>\n",
       "      <td>2165</td>\n",
       "      <td>2316</td>\n",
       "    </tr>\n",
       "    <tr>\n",
       "      <th>361</th>\n",
       "      <td>28/12/2015</td>\n",
       "      <td>4685</td>\n",
       "      <td>2254</td>\n",
       "      <td>2431</td>\n",
       "    </tr>\n",
       "    <tr>\n",
       "      <th>362</th>\n",
       "      <td>29/12/2015</td>\n",
       "      <td>5243</td>\n",
       "      <td>2481</td>\n",
       "      <td>2762</td>\n",
       "    </tr>\n",
       "    <tr>\n",
       "      <th>363</th>\n",
       "      <td>30/12/2015</td>\n",
       "      <td>5224</td>\n",
       "      <td>2546</td>\n",
       "      <td>2678</td>\n",
       "    </tr>\n",
       "    <tr>\n",
       "      <th>364</th>\n",
       "      <td>31/12/2015</td>\n",
       "      <td>5326</td>\n",
       "      <td>2704</td>\n",
       "      <td>2622</td>\n",
       "    </tr>\n",
       "  </tbody>\n",
       "</table>\n",
       "</div>"
      ],
      "text/plain": [
       "           Date  Capel_Street    IN   OUT\n",
       "360  27/12/2015          4481  2165  2316\n",
       "361  28/12/2015          4685  2254  2431\n",
       "362  29/12/2015          5243  2481  2762\n",
       "363  30/12/2015          5224  2546  2678\n",
       "364  31/12/2015          5326  2704  2622"
      ]
     },
     "execution_count": 7,
     "metadata": {},
     "output_type": "execute_result"
    }
   ],
   "source": [
    "df.tail(5)"
   ]
  },
  {
   "cell_type": "code",
   "execution_count": 8,
   "id": "6ea8da2e",
   "metadata": {},
   "outputs": [
    {
     "data": {
      "text/plain": [
       "Date            object\n",
       "Capel_Street     int64\n",
       "IN               int64\n",
       "OUT              int64\n",
       "dtype: object"
      ]
     },
     "execution_count": 8,
     "metadata": {},
     "output_type": "execute_result"
    }
   ],
   "source": [
    "#Check data types\n",
    "df.dtypes"
   ]
  },
  {
   "cell_type": "code",
   "execution_count": 9,
   "id": "57c07e2a",
   "metadata": {},
   "outputs": [
    {
     "data": {
      "text/html": [
       "<div>\n",
       "<style scoped>\n",
       "    .dataframe tbody tr th:only-of-type {\n",
       "        vertical-align: middle;\n",
       "    }\n",
       "\n",
       "    .dataframe tbody tr th {\n",
       "        vertical-align: top;\n",
       "    }\n",
       "\n",
       "    .dataframe thead th {\n",
       "        text-align: right;\n",
       "    }\n",
       "</style>\n",
       "<table border=\"1\" class=\"dataframe\">\n",
       "  <thead>\n",
       "    <tr style=\"text-align: right;\">\n",
       "      <th></th>\n",
       "      <th>Date</th>\n",
       "      <th>Footfall</th>\n",
       "      <th>In</th>\n",
       "      <th>Out</th>\n",
       "    </tr>\n",
       "  </thead>\n",
       "  <tbody>\n",
       "    <tr>\n",
       "      <th>0</th>\n",
       "      <td>01/01/2015</td>\n",
       "      <td>3481</td>\n",
       "      <td>1593</td>\n",
       "      <td>1888</td>\n",
       "    </tr>\n",
       "    <tr>\n",
       "      <th>1</th>\n",
       "      <td>02/01/2015</td>\n",
       "      <td>4437</td>\n",
       "      <td>2150</td>\n",
       "      <td>2287</td>\n",
       "    </tr>\n",
       "    <tr>\n",
       "      <th>2</th>\n",
       "      <td>03/01/2015</td>\n",
       "      <td>5278</td>\n",
       "      <td>2819</td>\n",
       "      <td>2459</td>\n",
       "    </tr>\n",
       "    <tr>\n",
       "      <th>3</th>\n",
       "      <td>04/01/2015</td>\n",
       "      <td>4098</td>\n",
       "      <td>2020</td>\n",
       "      <td>2078</td>\n",
       "    </tr>\n",
       "    <tr>\n",
       "      <th>4</th>\n",
       "      <td>05/01/2015</td>\n",
       "      <td>5757</td>\n",
       "      <td>3162</td>\n",
       "      <td>2595</td>\n",
       "    </tr>\n",
       "    <tr>\n",
       "      <th>...</th>\n",
       "      <td>...</td>\n",
       "      <td>...</td>\n",
       "      <td>...</td>\n",
       "      <td>...</td>\n",
       "    </tr>\n",
       "    <tr>\n",
       "      <th>360</th>\n",
       "      <td>27/12/2015</td>\n",
       "      <td>4481</td>\n",
       "      <td>2165</td>\n",
       "      <td>2316</td>\n",
       "    </tr>\n",
       "    <tr>\n",
       "      <th>361</th>\n",
       "      <td>28/12/2015</td>\n",
       "      <td>4685</td>\n",
       "      <td>2254</td>\n",
       "      <td>2431</td>\n",
       "    </tr>\n",
       "    <tr>\n",
       "      <th>362</th>\n",
       "      <td>29/12/2015</td>\n",
       "      <td>5243</td>\n",
       "      <td>2481</td>\n",
       "      <td>2762</td>\n",
       "    </tr>\n",
       "    <tr>\n",
       "      <th>363</th>\n",
       "      <td>30/12/2015</td>\n",
       "      <td>5224</td>\n",
       "      <td>2546</td>\n",
       "      <td>2678</td>\n",
       "    </tr>\n",
       "    <tr>\n",
       "      <th>364</th>\n",
       "      <td>31/12/2015</td>\n",
       "      <td>5326</td>\n",
       "      <td>2704</td>\n",
       "      <td>2622</td>\n",
       "    </tr>\n",
       "  </tbody>\n",
       "</table>\n",
       "<p>365 rows × 4 columns</p>\n",
       "</div>"
      ],
      "text/plain": [
       "           Date  Footfall    In   Out\n",
       "0    01/01/2015      3481  1593  1888\n",
       "1    02/01/2015      4437  2150  2287\n",
       "2    03/01/2015      5278  2819  2459\n",
       "3    04/01/2015      4098  2020  2078\n",
       "4    05/01/2015      5757  3162  2595\n",
       "..          ...       ...   ...   ...\n",
       "360  27/12/2015      4481  2165  2316\n",
       "361  28/12/2015      4685  2254  2431\n",
       "362  29/12/2015      5243  2481  2762\n",
       "363  30/12/2015      5224  2546  2678\n",
       "364  31/12/2015      5326  2704  2622\n",
       "\n",
       "[365 rows x 4 columns]"
      ]
     },
     "execution_count": 9,
     "metadata": {},
     "output_type": "execute_result"
    }
   ],
   "source": [
    "#Rename columns for readability and consistency purposes\n",
    "df.rename(columns={\"Capel_Street\": \"Footfall\", \"IN\": \"In\", \"OUT\": \"Out\"}, inplace=True)\n",
    "df"
   ]
  },
  {
   "cell_type": "markdown",
   "id": "6cdf6a3c",
   "metadata": {},
   "source": [
    "# 2. Statistics\n",
    "This sections contains statisical graphs and calulations"
   ]
  },
  {
   "cell_type": "markdown",
   "id": "5fe863b2",
   "metadata": {},
   "source": [
    "## 2.1 Data Spread and Central Tendency"
   ]
  },
  {
   "cell_type": "code",
   "execution_count": 10,
   "id": "84f20f0d",
   "metadata": {},
   "outputs": [
    {
     "data": {
      "text/plain": [
       "<AxesSubplot:xlabel='Footfall', ylabel='Count'>"
      ]
     },
     "execution_count": 10,
     "metadata": {},
     "output_type": "execute_result"
    },
    {
     "data": {
      "image/png": "[encoded data removed]",
      "text/plain": [
       "<Figure size 432x288 with 1 Axes>"
      ]
     },
     "metadata": {
      "needs_background": "light"
     },
     "output_type": "display_data"
    }
   ],
   "source": [
    "#Histogram\n",
    "sns.histplot(df.Footfall, bins=11)"
   ]
  },
  {
   "cell_type": "code",
   "execution_count": 11,
   "id": "5a62fa9d",
   "metadata": {},
   "outputs": [
    {
     "data": {
      "text/plain": [
       "<AxesSubplot:xlabel='Footfall'>"
      ]
     },
     "execution_count": 11,
     "metadata": {},
     "output_type": "execute_result"
    },
    {
     "data": {
      "image/png": "[encoded data removed]",
      "text/plain": [
       "<Figure size 432x288 with 1 Axes>"
      ]
     },
     "metadata": {
      "needs_background": "light"
     },
     "output_type": "display_data"
    }
   ],
   "source": [
    "#Boxplot with Interquartile Range\n",
    "sns.boxplot(x=df[\"Footfall\"])"
   ]
  },
  {
   "cell_type": "code",
   "execution_count": 12,
   "id": "cbffec02",
   "metadata": {},
   "outputs": [
    {
     "name": "stdout",
     "output_type": "stream",
     "text": [
      "Q1 is: 5391.0\n",
      "The median is: 5978.0\n",
      "Q3 is: 6399.0\n",
      "And the Interquartile Range is: 1008.0\n"
     ]
    }
   ],
   "source": [
    "#Pulling some values of the above plot to use in the report\n",
    "Q1 = np.quantile(df.Footfall, 0.25)\n",
    "median = df[\"Footfall\"].median()\n",
    "Q3 = np.quantile(df.Footfall, 0.75)\n",
    "IQR = Q3 - Q1\n",
    "print(\"Q1 is: \" + str(Q1))\n",
    "print(\"The median is: \" + str(median))\n",
    "print(\"Q3 is: \" + str(Q3))\n",
    "print(\"And the Interquartile Range is: \" + str(IQR))"
   ]
  },
  {
   "cell_type": "code",
   "execution_count": 13,
   "id": "0c6a41bd",
   "metadata": {},
   "outputs": [
    {
     "name": "stdout",
     "output_type": "stream",
     "text": [
      "The mean is: 5841.2986301369865\n",
      "The median is: 5978.0\n"
     ]
    }
   ],
   "source": [
    "#Mean calculation for use in report. Already did median earlier\n",
    "mean = df[\"Footfall\"].mean()\n",
    "\n",
    "print(\"The mean is: \" + str(mean))\n",
    "print(\"The median is: \" + str(median))"
   ]
  },
  {
   "cell_type": "code",
   "execution_count": 14,
   "id": "b221c614",
   "metadata": {},
   "outputs": [
    {
     "data": {
      "text/plain": [
       "817.6367789754098"
      ]
     },
     "execution_count": 14,
     "metadata": {},
     "output_type": "execute_result"
    }
   ],
   "source": [
    "#Standard Deviation\n",
    "std = df[\"Footfall\"].std()\n",
    "std"
   ]
  },
  {
   "cell_type": "code",
   "execution_count": 15,
   "id": "53d234e7",
   "metadata": {},
   "outputs": [
    {
     "data": {
      "text/plain": [
       "<seaborn.axisgrid.FacetGrid at 0x18e801adfd0>"
      ]
     },
     "execution_count": 15,
     "metadata": {},
     "output_type": "execute_result"
    },
    {
     "data": {
      "image/png": "[encoded data removed]",
      "text/plain": [
       "<Figure size 360x360 with 1 Axes>"
      ]
     },
     "metadata": {
      "needs_background": "light"
     },
     "output_type": "display_data"
    }
   ],
   "source": [
    "sns.displot(df.Footfall, kind=\"kde\")"
   ]
  },
  {
   "cell_type": "markdown",
   "id": "15449add",
   "metadata": {},
   "source": [
    "## 2.2 Poisson Distribution\n",
    "Plotting a Poisson Distribution using the mean value of our dataset as the mu value.\n",
    "Will also include a few calculations"
   ]
  },
  {
   "cell_type": "code",
   "execution_count": 16,
   "id": "71c1a9a1",
   "metadata": {},
   "outputs": [
    {
     "data": {
      "text/plain": [
       "[996,\n",
       " 3481,\n",
       " 3622,\n",
       " 3637,\n",
       " 3863,\n",
       " 3880,\n",
       " 3895,\n",
       " 3906,\n",
       " 3913,\n",
       " 4098,\n",
       " 4110,\n",
       " 4125,\n",
       " 4126,\n",
       " 4128,\n",
       " 4142,\n",
       " 4241,\n",
       " 4308,\n",
       " 4314,\n",
       " 4379,\n",
       " 4384,\n",
       " 4407,\n",
       " 4437,\n",
       " 4461,\n",
       " 4481,\n",
       " 4481,\n",
       " 4535,\n",
       " 4574,\n",
       " 4586,\n",
       " 4601,\n",
       " 4611,\n",
       " 4629,\n",
       " 4633,\n",
       " 4685,\n",
       " 4724,\n",
       " 4740,\n",
       " 4740,\n",
       " 4744,\n",
       " 4748,\n",
       " 4758,\n",
       " 4760,\n",
       " 4785,\n",
       " 4796,\n",
       " 4823,\n",
       " 4837,\n",
       " 4843,\n",
       " 4886,\n",
       " 4896,\n",
       " 4900,\n",
       " 4901,\n",
       " 4905,\n",
       " 4906,\n",
       " 4936,\n",
       " 4939,\n",
       " 4969,\n",
       " 4972,\n",
       " 4987,\n",
       " 4990,\n",
       " 5018,\n",
       " 5020,\n",
       " 5023,\n",
       " 5027,\n",
       " 5065,\n",
       " 5084,\n",
       " 5104,\n",
       " 5121,\n",
       " 5122,\n",
       " 5146,\n",
       " 5178,\n",
       " 5184,\n",
       " 5186,\n",
       " 5207,\n",
       " 5214,\n",
       " 5215,\n",
       " 5220,\n",
       " 5221,\n",
       " 5224,\n",
       " 5243,\n",
       " 5246,\n",
       " 5276,\n",
       " 5278,\n",
       " 5286,\n",
       " 5317,\n",
       " 5326,\n",
       " 5330,\n",
       " 5330,\n",
       " 5336,\n",
       " 5364,\n",
       " 5377,\n",
       " 5380,\n",
       " 5387,\n",
       " 5390,\n",
       " 5391,\n",
       " 5398,\n",
       " 5416,\n",
       " 5432,\n",
       " 5438,\n",
       " 5453,\n",
       " 5453,\n",
       " 5453,\n",
       " 5461,\n",
       " 5466,\n",
       " 5480,\n",
       " 5485,\n",
       " 5491,\n",
       " 5498,\n",
       " 5504,\n",
       " 5505,\n",
       " 5505,\n",
       " 5507,\n",
       " 5522,\n",
       " 5537,\n",
       " 5539,\n",
       " 5548,\n",
       " 5559,\n",
       " 5567,\n",
       " 5579,\n",
       " 5580,\n",
       " 5586,\n",
       " 5596,\n",
       " 5623,\n",
       " 5627,\n",
       " 5631,\n",
       " 5635,\n",
       " 5637,\n",
       " 5638,\n",
       " 5642,\n",
       " 5644,\n",
       " 5673,\n",
       " 5680,\n",
       " 5684,\n",
       " 5687,\n",
       " 5689,\n",
       " 5691,\n",
       " 5692,\n",
       " 5693,\n",
       " 5697,\n",
       " 5704,\n",
       " 5711,\n",
       " 5719,\n",
       " 5720,\n",
       " 5724,\n",
       " 5743,\n",
       " 5757,\n",
       " 5757,\n",
       " 5760,\n",
       " 5767,\n",
       " 5769,\n",
       " 5771,\n",
       " 5796,\n",
       " 5809,\n",
       " 5809,\n",
       " 5809,\n",
       " 5810,\n",
       " 5810,\n",
       " 5816,\n",
       " 5820,\n",
       " 5821,\n",
       " 5829,\n",
       " 5830,\n",
       " 5844,\n",
       " 5854,\n",
       " 5855,\n",
       " 5868,\n",
       " 5874,\n",
       " 5876,\n",
       " 5881,\n",
       " 5900,\n",
       " 5903,\n",
       " 5907,\n",
       " 5909,\n",
       " 5918,\n",
       " 5919,\n",
       " 5928,\n",
       " 5932,\n",
       " 5939,\n",
       " 5946,\n",
       " 5952,\n",
       " 5960,\n",
       " 5967,\n",
       " 5969,\n",
       " 5974,\n",
       " 5975,\n",
       " 5978,\n",
       " 5981,\n",
       " 5989,\n",
       " 5993,\n",
       " 5997,\n",
       " 6020,\n",
       " 6020,\n",
       " 6032,\n",
       " 6033,\n",
       " 6043,\n",
       " 6054,\n",
       " 6058,\n",
       " 6063,\n",
       " 6074,\n",
       " 6075,\n",
       " 6079,\n",
       " 6079,\n",
       " 6084,\n",
       " 6090,\n",
       " 6094,\n",
       " 6099,\n",
       " 6113,\n",
       " 6116,\n",
       " 6125,\n",
       " 6127,\n",
       " 6131,\n",
       " 6133,\n",
       " 6134,\n",
       " 6135,\n",
       " 6136,\n",
       " 6137,\n",
       " 6139,\n",
       " 6142,\n",
       " 6145,\n",
       " 6148,\n",
       " 6152,\n",
       " 6157,\n",
       " 6163,\n",
       " 6167,\n",
       " 6168,\n",
       " 6171,\n",
       " 6173,\n",
       " 6174,\n",
       " 6175,\n",
       " 6179,\n",
       " 6186,\n",
       " 6187,\n",
       " 6190,\n",
       " 6194,\n",
       " 6198,\n",
       " 6207,\n",
       " 6208,\n",
       " 6219,\n",
       " 6221,\n",
       " 6243,\n",
       " 6243,\n",
       " 6255,\n",
       " 6256,\n",
       " 6261,\n",
       " 6265,\n",
       " 6269,\n",
       " 6277,\n",
       " 6282,\n",
       " 6286,\n",
       " 6288,\n",
       " 6298,\n",
       " 6298,\n",
       " 6301,\n",
       " 6306,\n",
       " 6312,\n",
       " 6314,\n",
       " 6321,\n",
       " 6322,\n",
       " 6326,\n",
       " 6326,\n",
       " 6327,\n",
       " 6327,\n",
       " 6334,\n",
       " 6336,\n",
       " 6339,\n",
       " 6344,\n",
       " 6356,\n",
       " 6358,\n",
       " 6362,\n",
       " 6365,\n",
       " 6374,\n",
       " 6381,\n",
       " 6383,\n",
       " 6385,\n",
       " 6398,\n",
       " 6399,\n",
       " 6399,\n",
       " 6402,\n",
       " 6403,\n",
       " 6408,\n",
       " 6409,\n",
       " 6415,\n",
       " 6420,\n",
       " 6424,\n",
       " 6424,\n",
       " 6429,\n",
       " 6432,\n",
       " 6436,\n",
       " 6440,\n",
       " 6452,\n",
       " 6454,\n",
       " 6462,\n",
       " 6463,\n",
       " 6477,\n",
       " 6482,\n",
       " 6487,\n",
       " 6497,\n",
       " 6502,\n",
       " 6509,\n",
       " 6512,\n",
       " 6517,\n",
       " 6522,\n",
       " 6524,\n",
       " 6535,\n",
       " 6542,\n",
       " 6544,\n",
       " 6553,\n",
       " 6557,\n",
       " 6564,\n",
       " 6564,\n",
       " 6574,\n",
       " 6579,\n",
       " 6584,\n",
       " 6592,\n",
       " 6597,\n",
       " 6602,\n",
       " 6604,\n",
       " 6609,\n",
       " 6610,\n",
       " 6612,\n",
       " 6613,\n",
       " 6618,\n",
       " 6620,\n",
       " 6621,\n",
       " 6630,\n",
       " 6648,\n",
       " 6649,\n",
       " 6650,\n",
       " 6651,\n",
       " 6655,\n",
       " 6660,\n",
       " 6670,\n",
       " 6676,\n",
       " 6677,\n",
       " 6680,\n",
       " 6702,\n",
       " 6729,\n",
       " 6743,\n",
       " 6750,\n",
       " 6779,\n",
       " 6802,\n",
       " 6807,\n",
       " 6810,\n",
       " 6830,\n",
       " 6863,\n",
       " 6867,\n",
       " 6872,\n",
       " 6877,\n",
       " 6893,\n",
       " 6897,\n",
       " 6908,\n",
       " 6936,\n",
       " 6948,\n",
       " 6966,\n",
       " 6990,\n",
       " 7000,\n",
       " 7001,\n",
       " 7021,\n",
       " 7037,\n",
       " 7101,\n",
       " 7331,\n",
       " 7351,\n",
       " 7359,\n",
       " 7362,\n",
       " 7412,\n",
       " 7730,\n",
       " 7841,\n",
       " 7894]"
      ]
     },
     "execution_count": 16,
     "metadata": {},
     "output_type": "execute_result"
    }
   ],
   "source": [
    "#Reading in all the values in Footfall and putting it into an array. Then sorting it\n",
    "footfallArray = []\n",
    "for t in df.Footfall:\n",
    "    footfallArray.append(t)\n",
    "footfallArray.sort()\n",
    "footfallArray"
   ]
  },
  {
   "cell_type": "code",
   "execution_count": 17,
   "id": "3855d41a",
   "metadata": {},
   "outputs": [],
   "source": [
    "#n my number of events for the poisson. number is roughly double the mean to show symmetry. For the report\n",
    "n = np.arange(0,11864)"
   ]
  },
  {
   "cell_type": "code",
   "execution_count": 18,
   "id": "59a01c06",
   "metadata": {},
   "outputs": [
    {
     "name": "stdout",
     "output_type": "stream",
     "text": [
      "5841.2986301369865\n"
     ]
    }
   ],
   "source": [
    "#Let mu be the mean of the footfall\n",
    "mu = np.mean(footfallArray)\n",
    "print(mu)"
   ]
  },
  {
   "cell_type": "code",
   "execution_count": 19,
   "id": "5c46053a",
   "metadata": {},
   "outputs": [
    {
     "name": "stdout",
     "output_type": "stream",
     "text": [
      "[0. 0. 0. ... 0. 0. 0.]\n"
     ]
    }
   ],
   "source": [
    "#For n events, calculates the probability of each number happening. Very very small chances so numbers aren't clearly visible\n",
    "probMassFunction = poisson.pmf(n, mu=mu)\n",
    "print(probMassFunction)"
   ]
  },
  {
   "cell_type": "code",
   "execution_count": 20,
   "id": "0d42c5bf",
   "metadata": {},
   "outputs": [
    {
     "data": {
      "image/png": "[encoded data removed]",
      "text/plain": [
       "<Figure size 432x288 with 1 Axes>"
      ]
     },
     "metadata": {
      "needs_background": "light"
     },
     "output_type": "display_data"
    }
   ],
   "source": [
    "#Poisson Distribution\n",
    "plt.plot(n, probMassFunction)\n",
    "plt.xlabel(\"n\")\n",
    "plt.ylabel(\"Probability (k)\")\n",
    "plt.title(\"Poisson Distribution\")\n",
    "\n",
    "plt.show()"
   ]
  },
  {
   "cell_type": "code",
   "execution_count": 21,
   "id": "06cc657c",
   "metadata": {},
   "outputs": [
    {
     "data": {
      "text/plain": [
       "0.005219837118644279"
      ]
     },
     "execution_count": 21,
     "metadata": {},
     "output_type": "execute_result"
    }
   ],
   "source": [
    "#Probability that the counter will read 5,841\n",
    "poisson.pmf(k=5841, mu=mu)"
   ]
  },
  {
   "cell_type": "code",
   "execution_count": 22,
   "id": "42f8d24c",
   "metadata": {},
   "outputs": [
    {
     "data": {
      "text/plain": [
       "0.17299160788207146"
      ]
     },
     "execution_count": 22,
     "metadata": {},
     "output_type": "execute_result"
    }
   ],
   "source": [
    "#prob of 4 or less\n",
    "poisson.cdf(k=4, mu=7)"
   ]
  },
  {
   "cell_type": "code",
   "execution_count": 23,
   "id": "527b67ae",
   "metadata": {},
   "outputs": [
    {
     "data": {
      "text/plain": [
       "0.2972746739166649"
      ]
     },
     "execution_count": 23,
     "metadata": {},
     "output_type": "execute_result"
    }
   ],
   "source": [
    "#Probability that the counter will read 5,800 or less\n",
    "poisson.cdf(k=5800, mu=mu)"
   ]
  },
  {
   "cell_type": "code",
   "execution_count": 24,
   "id": "8b0c4044",
   "metadata": {},
   "outputs": [
    {
     "data": {
      "text/plain": [
       "0.018954909766735306"
      ]
     },
     "execution_count": 24,
     "metadata": {},
     "output_type": "execute_result"
    }
   ],
   "source": [
    "#Probability that the counter will read greater than 6000 at the end of the day\n",
    "1 - poisson.cdf(k=6000, mu=mu)"
   ]
  },
  {
   "cell_type": "markdown",
   "id": "7ab0ff8b",
   "metadata": {},
   "source": [
    "## 2.3 Normal Distribution\n",
    "Plotting a Normal Distribution by using the dataset's mean and standard deviation values. Then I will compare it to the Poisson by overlapping it on a graph"
   ]
  },
  {
   "cell_type": "code",
   "execution_count": 25,
   "id": "4460daf6",
   "metadata": {},
   "outputs": [
    {
     "data": {
      "image/png": "[encoded data removed]",
      "text/plain": [
       "<Figure size 540x540 with 1 Axes>"
      ]
     },
     "metadata": {
      "needs_background": "light"
     },
     "output_type": "display_data"
    }
   ],
   "source": [
    "#Normal Distribution Graph\n",
    "x = np.linspace(0, 11864)\n",
    "\n",
    "plt.figure(figsize=(7.5,7.5))\n",
    "\n",
    "plt.plot(x, stats.norm(mu, std).pdf(x),alpha=0.5)\n",
    "\n",
    "plt.title(\"Normal Distribution\")\n",
    "plt.xlabel(\"Data Range\")\n",
    "plt.ylabel(\"Probability\")\n",
    "plt.show()"
   ]
  },
  {
   "cell_type": "code",
   "execution_count": 26,
   "id": "fcc6da5c",
   "metadata": {},
   "outputs": [
    {
     "data": {
      "text/plain": [
       "0.002094978737935016"
      ]
     },
     "execution_count": 26,
     "metadata": {},
     "output_type": "execute_result"
    }
   ],
   "source": [
    "#Given a mean and standard deviation, the chances of having 3,500 or less in a given day\n",
    "NormalDist(mu=mu, sigma=std).cdf(3500)"
   ]
  },
  {
   "cell_type": "code",
   "execution_count": 27,
   "id": "12432909",
   "metadata": {},
   "outputs": [
    {
     "data": {
      "text/plain": [
       "0.2102321138115515"
      ]
     },
     "execution_count": 27,
     "metadata": {},
     "output_type": "execute_result"
    }
   ],
   "source": [
    "#Chances of 6,500 or more visitors in a day\n",
    "1 - NormalDist(mu=mu, sigma=std).cdf(6500)"
   ]
  },
  {
   "cell_type": "markdown",
   "id": "dfe8d047",
   "metadata": {},
   "source": [
    "## 2.4 Normal vs Poisson"
   ]
  },
  {
   "cell_type": "code",
   "execution_count": 28,
   "id": "ec9962bc",
   "metadata": {},
   "outputs": [
    {
     "data": {
      "image/png": "[encoded data removed]",
      "text/plain": [
       "<Figure size 540x540 with 1 Axes>"
      ]
     },
     "metadata": {
      "needs_background": "light"
     },
     "output_type": "display_data"
    }
   ],
   "source": [
    "#\n",
    "# Values of random variable\n",
    "#\n",
    "#\n",
    "plt.figure(figsize=(7.5,7.5))\n",
    "#\n",
    "# Normal distribution with mean 0 and std as 1\n",
    "#\n",
    "plt.plot(n, stats.norm(mu, std).pdf(n))\n",
    "plt.plot(n, probMassFunction)\n",
    "\n",
    "plt.title('Normal Distribution (blue) vs Poisson Distribution (orange)')\n",
    "plt.xlabel('Footfall')\n",
    "plt.ylabel('Probability')\n",
    "plt.show()"
   ]
  },
  {
   "cell_type": "markdown",
   "id": "f8c7a6e3",
   "metadata": {},
   "source": [
    "## 2.5 Normal Fitted Curve to the dataset"
   ]
  },
  {
   "cell_type": "code",
   "execution_count": 29,
   "id": "7218bc4b",
   "metadata": {},
   "outputs": [
    {
     "name": "stdout",
     "output_type": "stream",
     "text": [
      "5841.2986301369865\n",
      "816.5159603827517\n"
     ]
    }
   ],
   "source": [
    "data = []\n",
    "data = df[\"Footfall\"]\n",
    "[meanFit, stdFit] = scipy.stats.norm.fit(data)\n",
    "\n",
    "print(meanFit)\n",
    "print(stdFit)"
   ]
  },
  {
   "cell_type": "code",
   "execution_count": 30,
   "id": "4f4fe834",
   "metadata": {},
   "outputs": [],
   "source": [
    "#Returns evenly spaced intervals between the specifed parameters\n",
    "x = np.linspace(0,11864)"
   ]
  },
  {
   "cell_type": "code",
   "execution_count": 31,
   "id": "a81dad47",
   "metadata": {},
   "outputs": [
    {
     "data": {
      "text/plain": [
       "Text(0.5, 1.0, 'Normal Fitted Curve')"
      ]
     },
     "execution_count": 31,
     "metadata": {},
     "output_type": "execute_result"
    },
    {
     "data": {
      "image/png": "[encoded data removed]",
      "text/plain": [
       "<Figure size 432x288 with 1 Axes>"
      ]
     },
     "metadata": {
      "needs_background": "light"
     },
     "output_type": "display_data"
    }
   ],
   "source": [
    "plt.plot(x,scipy.stats.norm.pdf(x,meanFit,stdFit),)\n",
    "plt.xlabel(\"Footfall\")\n",
    "plt.ylabel(\"Probability\")\n",
    "plt.title(\"Normal Fitted Curve\")"
   ]
  },
  {
   "cell_type": "markdown",
   "id": "fb9c114b",
   "metadata": {},
   "source": [
    "# 3 Data Preperation and Visualisation\n",
    "Cleaning and preparing the data for Machine Learning. Contains visualisations to gain insights on the dataset"
   ]
  },
  {
   "cell_type": "markdown",
   "id": "d299710f",
   "metadata": {},
   "source": [
    "## 3.1 Data Cleaning"
   ]
  },
  {
   "cell_type": "code",
   "execution_count": 41,
   "id": "cfd2bc98",
   "metadata": {},
   "outputs": [
    {
     "name": "stdout",
     "output_type": "stream",
     "text": [
      "3481\n",
      "4437\n",
      "5278\n",
      "4098\n",
      "5757\n",
      "5642\n",
      "4308\n",
      "4905\n",
      "4969\n",
      "5453\n",
      "3913\n",
      "5020\n",
      "5027\n",
      "4936\n",
      "4900\n",
      "5820\n",
      "5844\n",
      "4407\n",
      "5596\n",
      "5480\n",
      "5687\n",
      "6058\n",
      "5830\n",
      "6288\n",
      "4481\n",
      "5380\n",
      "5691\n",
      "5377\n",
      "5364\n",
      "6075\n",
      "6255\n",
      "4601\n",
      "5498\n",
      "5796\n",
      "5975\n",
      "6286\n",
      "5946\n",
      "6648\n",
      "4379\n",
      "5336\n",
      "4785\n",
      "5760\n",
      "5184\n",
      "5821\n",
      "5974\n",
      "4535\n",
      "5635\n",
      "5981\n",
      "6512\n",
      "6163\n",
      "5330\n",
      "5757\n",
      "3880\n",
      "4837\n",
      "5505\n",
      "5810\n",
      "5485\n",
      "5993\n",
      "6133\n",
      "3906\n",
      "5146\n",
      "5689\n",
      "6113\n",
      "6334\n",
      "5978\n",
      "6139\n",
      "4611\n",
      "5178\n",
      "5743\n",
      "5918\n",
      "5330\n",
      "6301\n",
      "6362\n",
      "5104\n",
      "6830\n",
      "6597\n",
      "6339\n",
      "6502\n",
      "6137\n",
      "6522\n",
      "5023\n",
      "5491\n",
      "5586\n",
      "5809\n",
      "6198\n",
      "6702\n",
      "6136\n",
      "4461\n",
      "4990\n",
      "5214\n",
      "5453\n",
      "5416\n",
      "5505\n",
      "5939\n",
      "4128\n",
      "5387\n",
      "6219\n",
      "6043\n",
      "6604\n",
      "6277\n",
      "6079\n",
      "4314\n",
      "6054\n",
      "5767\n",
      "5919\n",
      "6936\n",
      "5810\n",
      "6897\n",
      "4939\n",
      "5967\n",
      "6322\n",
      "6399\n",
      "6381\n",
      "5697\n",
      "6020\n",
      "4896\n",
      "5461\n",
      "5580\n",
      "5638\n",
      "6670\n",
      "5909\n",
      "4142\n",
      "4796\n",
      "4629\n",
      "4987\n",
      "5391\n",
      "6517\n",
      "5390\n",
      "6327\n",
      "4843\n",
      "5769\n",
      "5684\n",
      "6564\n",
      "6142\n",
      "6872\n",
      "6415\n",
      "4586\n",
      "5548\n",
      "5829\n",
      "6221\n",
      "6127\n",
      "6584\n",
      "7362\n",
      "5215\n",
      "5900\n",
      "6358\n",
      "5537\n",
      "6116\n",
      "6131\n",
      "6327\n",
      "4724\n",
      "3622\n",
      "5692\n",
      "6509\n",
      "6173\n",
      "6084\n",
      "6462\n",
      "4744\n",
      "5903\n",
      "5989\n",
      "6312\n",
      "6424\n",
      "6542\n",
      "6326\n",
      "5084\n",
      "5724\n",
      "5854\n",
      "5969\n",
      "6365\n",
      "6282\n",
      "6321\n",
      "4748\n",
      "5623\n",
      "6135\n",
      "5928\n",
      "6171\n",
      "6463\n",
      "5874\n",
      "5122\n",
      "6020\n",
      "5876\n",
      "5680\n",
      "6174\n",
      "6429\n",
      "5855\n",
      "4574\n",
      "5220\n",
      "5868\n",
      "4758\n",
      "6326\n",
      "6186\n",
      "6168\n",
      "4972\n",
      "5631\n",
      "6314\n",
      "6409\n",
      "5719\n",
      "6385\n",
      "5881\n",
      "4740\n",
      "5771\n",
      "6145\n",
      "6033\n",
      "6618\n",
      "6990\n",
      "6677\n",
      "4241\n",
      "5559\n",
      "6336\n",
      "6265\n",
      "6743\n",
      "6729\n",
      "6630\n",
      "5065\n",
      "4886\n",
      "6079\n",
      "6099\n",
      "6613\n",
      "6779\n",
      "6650\n",
      "5398\n",
      "5522\n",
      "5704\n",
      "6398\n",
      "6477\n",
      "6750\n",
      "6243\n",
      "5276\n",
      "6298\n",
      "6436\n",
      "6063\n",
      "6157\n",
      "6651\n",
      "6574\n",
      "3863\n",
      "6579\n",
      "5567\n",
      "6602\n",
      "6535\n",
      "6454\n",
      "6243\n",
      "5644\n",
      "5809\n",
      "6187\n",
      "5809\n",
      "6524\n",
      "6544\n",
      "6621\n",
      "5207\n",
      "6179\n",
      "6402\n",
      "6344\n",
      "6802\n",
      "6420\n",
      "7001\n",
      "5018\n",
      "6374\n",
      "6610\n",
      "6948\n",
      "6592\n",
      "7894\n",
      "6966\n",
      "4906\n",
      "6893\n",
      "6612\n",
      "6424\n",
      "6408\n",
      "7412\n",
      "7037\n",
      "5186\n",
      "6125\n",
      "6680\n",
      "6807\n",
      "6863\n",
      "7359\n",
      "6620\n",
      "5579\n",
      "6152\n",
      "6175\n",
      "6810\n",
      "6660\n",
      "6908\n",
      "6867\n",
      "4901\n",
      "6190\n",
      "6497\n",
      "6482\n",
      "6609\n",
      "7000\n",
      "6167\n",
      "4760\n",
      "6194\n",
      "6032\n",
      "6148\n",
      "6676\n",
      "6564\n",
      "6134\n",
      "5432\n",
      "4126\n",
      "5720\n",
      "6399\n",
      "7351\n",
      "7101\n",
      "6655\n",
      "5246\n",
      "6208\n",
      "6207\n",
      "6383\n",
      "6440\n",
      "6557\n",
      "6487\n",
      "4125\n",
      "5539\n",
      "6452\n",
      "5960\n",
      "6356\n",
      "5286\n",
      "5453\n",
      "5317\n",
      "5637\n",
      "5438\n",
      "5673\n",
      "6649\n",
      "4110\n",
      "6261\n",
      "5466\n",
      "3895\n",
      "5907\n",
      "6298\n",
      "6553\n",
      "5952\n",
      "6432\n",
      "4740\n",
      "5997\n",
      "5932\n",
      "6306\n",
      "4633\n",
      "5504\n",
      "5627\n",
      "5711\n",
      "6090\n",
      "6269\n",
      "4384\n",
      "6256\n",
      "7021\n",
      "5121\n",
      "5507\n",
      "5816\n",
      "6403\n",
      "6877\n",
      "7331\n",
      "7730\n",
      "7841\n",
      "6074\n",
      "5693\n",
      "4823\n",
      "6094\n",
      "5221\n",
      "996\n",
      "3637\n",
      "4481\n",
      "4685\n",
      "5243\n",
      "5224\n",
      "5326\n"
     ]
    }
   ],
   "source": [
    "for n in range(0,365):\n",
    "    x = 0;\n",
    "    x = df[\"In\"][n] + df[\"Out\"][n]\n",
    "    if x != df[\"Footfall\"][n]:\n",
    "        print(\"Error\")\n",
    "        break;\n",
    "    ##print(str(x))"
   ]
  },
  {
   "cell_type": "code",
   "execution_count": 30,
   "id": "89cca1e7",
   "metadata": {},
   "outputs": [],
   "source": [
    "#Converts object type of the date column, as seen earlier during Section 1, to datetime format\n",
    "df[\"Date\"] = pd.to_datetime(df[\"Date\"], dayfirst=True, yearfirst=False)"
   ]
  },
  {
   "cell_type": "code",
   "execution_count": 31,
   "id": "b55a9f32",
   "metadata": {},
   "outputs": [
    {
     "data": {
      "text/html": [
       "<div>\n",
       "<style scoped>\n",
       "    .dataframe tbody tr th:only-of-type {\n",
       "        vertical-align: middle;\n",
       "    }\n",
       "\n",
       "    .dataframe tbody tr th {\n",
       "        vertical-align: top;\n",
       "    }\n",
       "\n",
       "    .dataframe thead th {\n",
       "        text-align: right;\n",
       "    }\n",
       "</style>\n",
       "<table border=\"1\" class=\"dataframe\">\n",
       "  <thead>\n",
       "    <tr style=\"text-align: right;\">\n",
       "      <th></th>\n",
       "      <th>Date</th>\n",
       "      <th>Footfall</th>\n",
       "      <th>In</th>\n",
       "      <th>Out</th>\n",
       "    </tr>\n",
       "  </thead>\n",
       "  <tbody>\n",
       "    <tr>\n",
       "      <th>0</th>\n",
       "      <td>2015-01-01</td>\n",
       "      <td>3481</td>\n",
       "      <td>1593</td>\n",
       "      <td>1888</td>\n",
       "    </tr>\n",
       "    <tr>\n",
       "      <th>1</th>\n",
       "      <td>2015-01-02</td>\n",
       "      <td>4437</td>\n",
       "      <td>2150</td>\n",
       "      <td>2287</td>\n",
       "    </tr>\n",
       "    <tr>\n",
       "      <th>2</th>\n",
       "      <td>2015-01-03</td>\n",
       "      <td>5278</td>\n",
       "      <td>2819</td>\n",
       "      <td>2459</td>\n",
       "    </tr>\n",
       "    <tr>\n",
       "      <th>3</th>\n",
       "      <td>2015-01-04</td>\n",
       "      <td>4098</td>\n",
       "      <td>2020</td>\n",
       "      <td>2078</td>\n",
       "    </tr>\n",
       "    <tr>\n",
       "      <th>4</th>\n",
       "      <td>2015-01-05</td>\n",
       "      <td>5757</td>\n",
       "      <td>3162</td>\n",
       "      <td>2595</td>\n",
       "    </tr>\n",
       "  </tbody>\n",
       "</table>\n",
       "</div>"
      ],
      "text/plain": [
       "        Date  Footfall    In   Out\n",
       "0 2015-01-01      3481  1593  1888\n",
       "1 2015-01-02      4437  2150  2287\n",
       "2 2015-01-03      5278  2819  2459\n",
       "3 2015-01-04      4098  2020  2078\n",
       "4 2015-01-05      5757  3162  2595"
      ]
     },
     "execution_count": 31,
     "metadata": {},
     "output_type": "execute_result"
    }
   ],
   "source": [
    "df.head()"
   ]
  },
  {
   "cell_type": "code",
   "execution_count": 32,
   "id": "14797c48",
   "metadata": {},
   "outputs": [
    {
     "data": {
      "text/plain": [
       "Date        datetime64[ns]\n",
       "Footfall             int64\n",
       "In                   int64\n",
       "Out                  int64\n",
       "dtype: object"
      ]
     },
     "execution_count": 32,
     "metadata": {},
     "output_type": "execute_result"
    }
   ],
   "source": [
    "#Checking to see it worked\n",
    "df.dtypes"
   ]
  },
  {
   "cell_type": "code",
   "execution_count": 33,
   "id": "3a3c967f",
   "metadata": {},
   "outputs": [
    {
     "name": "stdout",
     "output_type": "stream",
     "text": [
      "0\n"
     ]
    }
   ],
   "source": [
    "print((df[\"Date\"][4].weekday())) #0 is Monday, 6 is Sunday"
   ]
  },
  {
   "cell_type": "code",
   "execution_count": 34,
   "id": "d383afed",
   "metadata": {},
   "outputs": [],
   "source": [
    "def convertToDayOfWeek(num):\n",
    "    if num == 0:\n",
    "        return \"Monday\"\n",
    "    elif num == 1:\n",
    "        return \"Tuesday\"\n",
    "    elif num == 2:\n",
    "        return \"Wednesday\"\n",
    "    elif num == 3:\n",
    "        return \"Thursday\"\n",
    "    elif num == 4:\n",
    "        return \"Friday\"\n",
    "    elif num == 5:\n",
    "        return \"Saturday\"\n",
    "    elif num == 6:\n",
    "        return \"Sunday\"\n",
    "    else:\n",
    "        return \"NaN\""
   ]
  },
  {
   "cell_type": "code",
   "execution_count": 35,
   "id": "060ff2fb",
   "metadata": {},
   "outputs": [
    {
     "name": "stdout",
     "output_type": "stream",
     "text": [
      "Monday\n"
     ]
    }
   ],
   "source": [
    "print(convertToDayOfWeek((df[\"Date\"][4].weekday())))"
   ]
  },
  {
   "cell_type": "code",
   "execution_count": 36,
   "id": "a6b43992",
   "metadata": {},
   "outputs": [
    {
     "data": {
      "text/plain": [
       "'January'"
      ]
     },
     "execution_count": 36,
     "metadata": {},
     "output_type": "execute_result"
    }
   ],
   "source": [
    "df[\"Date\"][0].strftime(\"%B\")"
   ]
  },
  {
   "cell_type": "code",
   "execution_count": 37,
   "id": "646922a5",
   "metadata": {},
   "outputs": [],
   "source": [
    "#Iterate through the days and convert them to strings of the days. Monday, Tuesday, etc. Placed into an array\n",
    "dayArray = []\n",
    "for days in df[\"Date\"]:\n",
    "    dayArray.append(days.strftime(\"%A\"))"
   ]
  },
  {
   "cell_type": "code",
   "execution_count": 38,
   "id": "b6851b23",
   "metadata": {},
   "outputs": [],
   "source": [
    "#Same as above but for the months of the year\n",
    "monthArray = []\n",
    "for months in df[\"Date\"]:\n",
    "    monthArray.append(months.strftime(\"%B\"))"
   ]
  },
  {
   "cell_type": "code",
   "execution_count": 39,
   "id": "38661ccd",
   "metadata": {},
   "outputs": [],
   "source": [
    "#Make new DayOfWeek column\n",
    "df = df.assign(DayOfWeek=dayArray)"
   ]
  },
  {
   "cell_type": "code",
   "execution_count": 40,
   "id": "4ca42798",
   "metadata": {},
   "outputs": [],
   "source": [
    "#Make new Month column\n",
    "df = df.assign(Month=monthArray)"
   ]
  },
  {
   "cell_type": "code",
   "execution_count": 41,
   "id": "cbc64d38",
   "metadata": {},
   "outputs": [
    {
     "data": {
      "text/html": [
       "<div>\n",
       "<style scoped>\n",
       "    .dataframe tbody tr th:only-of-type {\n",
       "        vertical-align: middle;\n",
       "    }\n",
       "\n",
       "    .dataframe tbody tr th {\n",
       "        vertical-align: top;\n",
       "    }\n",
       "\n",
       "    .dataframe thead th {\n",
       "        text-align: right;\n",
       "    }\n",
       "</style>\n",
       "<table border=\"1\" class=\"dataframe\">\n",
       "  <thead>\n",
       "    <tr style=\"text-align: right;\">\n",
       "      <th></th>\n",
       "      <th>Date</th>\n",
       "      <th>Footfall</th>\n",
       "      <th>In</th>\n",
       "      <th>Out</th>\n",
       "      <th>DayOfWeek</th>\n",
       "      <th>Month</th>\n",
       "    </tr>\n",
       "  </thead>\n",
       "  <tbody>\n",
       "    <tr>\n",
       "      <th>0</th>\n",
       "      <td>2015-01-01</td>\n",
       "      <td>3481</td>\n",
       "      <td>1593</td>\n",
       "      <td>1888</td>\n",
       "      <td>Thursday</td>\n",
       "      <td>January</td>\n",
       "    </tr>\n",
       "    <tr>\n",
       "      <th>1</th>\n",
       "      <td>2015-01-02</td>\n",
       "      <td>4437</td>\n",
       "      <td>2150</td>\n",
       "      <td>2287</td>\n",
       "      <td>Friday</td>\n",
       "      <td>January</td>\n",
       "    </tr>\n",
       "    <tr>\n",
       "      <th>2</th>\n",
       "      <td>2015-01-03</td>\n",
       "      <td>5278</td>\n",
       "      <td>2819</td>\n",
       "      <td>2459</td>\n",
       "      <td>Saturday</td>\n",
       "      <td>January</td>\n",
       "    </tr>\n",
       "    <tr>\n",
       "      <th>3</th>\n",
       "      <td>2015-01-04</td>\n",
       "      <td>4098</td>\n",
       "      <td>2020</td>\n",
       "      <td>2078</td>\n",
       "      <td>Sunday</td>\n",
       "      <td>January</td>\n",
       "    </tr>\n",
       "    <tr>\n",
       "      <th>4</th>\n",
       "      <td>2015-01-05</td>\n",
       "      <td>5757</td>\n",
       "      <td>3162</td>\n",
       "      <td>2595</td>\n",
       "      <td>Monday</td>\n",
       "      <td>January</td>\n",
       "    </tr>\n",
       "  </tbody>\n",
       "</table>\n",
       "</div>"
      ],
      "text/plain": [
       "        Date  Footfall    In   Out DayOfWeek    Month\n",
       "0 2015-01-01      3481  1593  1888  Thursday  January\n",
       "1 2015-01-02      4437  2150  2287    Friday  January\n",
       "2 2015-01-03      5278  2819  2459  Saturday  January\n",
       "3 2015-01-04      4098  2020  2078    Sunday  January\n",
       "4 2015-01-05      5757  3162  2595    Monday  January"
      ]
     },
     "execution_count": 41,
     "metadata": {},
     "output_type": "execute_result"
    }
   ],
   "source": [
    "#Check the head to see if it worked\n",
    "df.head()"
   ]
  },
  {
   "cell_type": "markdown",
   "id": "c97ac6ac",
   "metadata": {},
   "source": [
    "## 3.2 Data Visualisation\n",
    "Section for graphs"
   ]
  },
  {
   "cell_type": "code",
   "execution_count": 42,
   "id": "d0d94fcb",
   "metadata": {},
   "outputs": [
    {
     "data": {
      "text/plain": [
       "Text(0, 0.5, 'Daily Count')"
      ]
     },
     "execution_count": 42,
     "metadata": {},
     "output_type": "execute_result"
    },
    {
     "data": {
      "image/png": "[encoded data removed]",
      "text/plain": [
       "<Figure size 432x288 with 1 Axes>"
      ]
     },
     "metadata": {
      "needs_background": "light"
     },
     "output_type": "display_data"
    }
   ],
   "source": [
    "#Line Graph\n",
    "df[\"Footfall\"].plot.line()\n",
    "plt.xlabel(\"Day of Year\")\n",
    "plt.ylabel(\"Daily Count\")"
   ]
  },
  {
   "cell_type": "code",
   "execution_count": 43,
   "id": "275646c9",
   "metadata": {},
   "outputs": [
    {
     "data": {
      "text/plain": [
       "<AxesSubplot:xlabel='Footfall', ylabel='Count'>"
      ]
     },
     "execution_count": 43,
     "metadata": {},
     "output_type": "execute_result"
    },
    {
     "data": {
      "image/png": "[encoded data removed]",
      "text/plain": [
       "<Figure size 432x288 with 1 Axes>"
      ]
     },
     "metadata": {
      "needs_background": "light"
     },
     "output_type": "display_data"
    }
   ],
   "source": [
    "sns.histplot(df.Footfall, element = 'poly', fill= False)"
   ]
  },
  {
   "cell_type": "code",
   "execution_count": 44,
   "id": "055f713f",
   "metadata": {},
   "outputs": [],
   "source": [
    "#Orders the days. Otherwise it will start with the day of the entry in the dataset. Which is Thursday\n",
    "hueOrder = [\"Sunday\", \"Monday\", \"Tuesday\", \"Wednesday\", \"Thursday\", \"Friday\", \"Saturday\"]"
   ]
  },
  {
   "cell_type": "code",
   "execution_count": 45,
   "id": "754e24ac",
   "metadata": {},
   "outputs": [
    {
     "ename": "TypeError",
     "evalue": "'float' object is not callable",
     "output_type": "error",
     "traceback": [
      "\u001b[1;31m---------------------------------------------------------------------------\u001b[0m",
      "\u001b[1;31mTypeError\u001b[0m                                 Traceback (most recent call last)",
      "Input \u001b[1;32mIn [45]\u001b[0m, in \u001b[0;36m<cell line: 4>\u001b[1;34m()\u001b[0m\n\u001b[0;32m      2\u001b[0m plt\u001b[38;5;241m.\u001b[39mfigure(figsize\u001b[38;5;241m=\u001b[39m(\u001b[38;5;241m20\u001b[39m,\u001b[38;5;241m10\u001b[39m))\n\u001b[0;32m      3\u001b[0m plt\u001b[38;5;241m.\u001b[39mtitle(\u001b[38;5;124m\"\u001b[39m\u001b[38;5;124mBar Chart of daily average pedestrians\u001b[39m\u001b[38;5;124m\"\u001b[39m, fontsize\u001b[38;5;241m=\u001b[39m\u001b[38;5;124m'\u001b[39m\u001b[38;5;124m16\u001b[39m\u001b[38;5;124m'\u001b[39m)\n\u001b[1;32m----> 4\u001b[0m ax\u001b[38;5;241m=\u001b[39m\u001b[43msns\u001b[49m\u001b[38;5;241;43m.\u001b[39;49m\u001b[43mbarplot\u001b[49m\u001b[43m(\u001b[49m\u001b[43mx\u001b[49m\u001b[38;5;241;43m=\u001b[39;49m\u001b[38;5;124;43m\"\u001b[39;49m\u001b[38;5;124;43mMonth\u001b[39;49m\u001b[38;5;124;43m\"\u001b[39;49m\u001b[43m,\u001b[49m\u001b[43my\u001b[49m\u001b[38;5;241;43m=\u001b[39;49m\u001b[38;5;124;43m\"\u001b[39;49m\u001b[38;5;124;43mFootfall\u001b[39;49m\u001b[38;5;124;43m\"\u001b[39;49m\u001b[43m,\u001b[49m\u001b[43m \u001b[49m\u001b[43mdata\u001b[49m\u001b[38;5;241;43m=\u001b[39;49m\u001b[43mdf\u001b[49m\u001b[43m,\u001b[49m\u001b[43mestimator\u001b[49m\u001b[38;5;241;43m=\u001b[39;49m\u001b[43mmean\u001b[49m\u001b[43m,\u001b[49m\u001b[43mhue\u001b[49m\u001b[38;5;241;43m=\u001b[39;49m\u001b[38;5;124;43m\"\u001b[39;49m\u001b[38;5;124;43mDayOfWeek\u001b[39;49m\u001b[38;5;124;43m\"\u001b[39;49m\u001b[43m,\u001b[49m\u001b[43m \u001b[49m\u001b[43mhue_order\u001b[49m\u001b[38;5;241;43m=\u001b[39;49m\u001b[43mhueOrder\u001b[49m\u001b[43m,\u001b[49m\u001b[43morder\u001b[49m\u001b[38;5;241;43m=\u001b[39;49m\u001b[43m[\u001b[49m\u001b[38;5;124;43m\"\u001b[39;49m\u001b[38;5;124;43mJanuary\u001b[39;49m\u001b[38;5;124;43m\"\u001b[39;49m\u001b[43m]\u001b[49m\u001b[43m)\u001b[49m\n",
      "File \u001b[1;32m~\\anaconda3\\lib\\site-packages\\seaborn\\_decorators.py:46\u001b[0m, in \u001b[0;36m_deprecate_positional_args.<locals>.inner_f\u001b[1;34m(*args, **kwargs)\u001b[0m\n\u001b[0;32m     36\u001b[0m     warnings\u001b[38;5;241m.\u001b[39mwarn(\n\u001b[0;32m     37\u001b[0m         \u001b[38;5;124m\"\u001b[39m\u001b[38;5;124mPass the following variable\u001b[39m\u001b[38;5;132;01m{}\u001b[39;00m\u001b[38;5;124m as \u001b[39m\u001b[38;5;132;01m{}\u001b[39;00m\u001b[38;5;124mkeyword arg\u001b[39m\u001b[38;5;132;01m{}\u001b[39;00m\u001b[38;5;124m: \u001b[39m\u001b[38;5;132;01m{}\u001b[39;00m\u001b[38;5;124m. \u001b[39m\u001b[38;5;124m\"\u001b[39m\n\u001b[0;32m     38\u001b[0m         \u001b[38;5;124m\"\u001b[39m\u001b[38;5;124mFrom version 0.12, the only valid positional argument \u001b[39m\u001b[38;5;124m\"\u001b[39m\n\u001b[1;32m   (...)\u001b[0m\n\u001b[0;32m     43\u001b[0m         \u001b[38;5;167;01mFutureWarning\u001b[39;00m\n\u001b[0;32m     44\u001b[0m     )\n\u001b[0;32m     45\u001b[0m kwargs\u001b[38;5;241m.\u001b[39mupdate({k: arg \u001b[38;5;28;01mfor\u001b[39;00m k, arg \u001b[38;5;129;01min\u001b[39;00m \u001b[38;5;28mzip\u001b[39m(sig\u001b[38;5;241m.\u001b[39mparameters, args)})\n\u001b[1;32m---> 46\u001b[0m \u001b[38;5;28;01mreturn\u001b[39;00m f(\u001b[38;5;241m*\u001b[39m\u001b[38;5;241m*\u001b[39mkwargs)\n",
      "File \u001b[1;32m~\\anaconda3\\lib\\site-packages\\seaborn\\categorical.py:3182\u001b[0m, in \u001b[0;36mbarplot\u001b[1;34m(x, y, hue, data, order, hue_order, estimator, ci, n_boot, units, seed, orient, color, palette, saturation, errcolor, errwidth, capsize, dodge, ax, **kwargs)\u001b[0m\n\u001b[0;32m   3169\u001b[0m \u001b[38;5;129m@_deprecate_positional_args\u001b[39m\n\u001b[0;32m   3170\u001b[0m \u001b[38;5;28;01mdef\u001b[39;00m \u001b[38;5;21mbarplot\u001b[39m(\n\u001b[0;32m   3171\u001b[0m     \u001b[38;5;241m*\u001b[39m,\n\u001b[1;32m   (...)\u001b[0m\n\u001b[0;32m   3179\u001b[0m     \u001b[38;5;241m*\u001b[39m\u001b[38;5;241m*\u001b[39mkwargs,\n\u001b[0;32m   3180\u001b[0m ):\n\u001b[1;32m-> 3182\u001b[0m     plotter \u001b[38;5;241m=\u001b[39m \u001b[43m_BarPlotter\u001b[49m\u001b[43m(\u001b[49m\u001b[43mx\u001b[49m\u001b[43m,\u001b[49m\u001b[43m \u001b[49m\u001b[43my\u001b[49m\u001b[43m,\u001b[49m\u001b[43m \u001b[49m\u001b[43mhue\u001b[49m\u001b[43m,\u001b[49m\u001b[43m \u001b[49m\u001b[43mdata\u001b[49m\u001b[43m,\u001b[49m\u001b[43m \u001b[49m\u001b[43morder\u001b[49m\u001b[43m,\u001b[49m\u001b[43m \u001b[49m\u001b[43mhue_order\u001b[49m\u001b[43m,\u001b[49m\n\u001b[0;32m   3183\u001b[0m \u001b[43m                          \u001b[49m\u001b[43mestimator\u001b[49m\u001b[43m,\u001b[49m\u001b[43m \u001b[49m\u001b[43mci\u001b[49m\u001b[43m,\u001b[49m\u001b[43m \u001b[49m\u001b[43mn_boot\u001b[49m\u001b[43m,\u001b[49m\u001b[43m \u001b[49m\u001b[43munits\u001b[49m\u001b[43m,\u001b[49m\u001b[43m \u001b[49m\u001b[43mseed\u001b[49m\u001b[43m,\u001b[49m\n\u001b[0;32m   3184\u001b[0m \u001b[43m                          \u001b[49m\u001b[43morient\u001b[49m\u001b[43m,\u001b[49m\u001b[43m \u001b[49m\u001b[43mcolor\u001b[49m\u001b[43m,\u001b[49m\u001b[43m \u001b[49m\u001b[43mpalette\u001b[49m\u001b[43m,\u001b[49m\u001b[43m \u001b[49m\u001b[43msaturation\u001b[49m\u001b[43m,\u001b[49m\n\u001b[0;32m   3185\u001b[0m \u001b[43m                          \u001b[49m\u001b[43merrcolor\u001b[49m\u001b[43m,\u001b[49m\u001b[43m \u001b[49m\u001b[43merrwidth\u001b[49m\u001b[43m,\u001b[49m\u001b[43m \u001b[49m\u001b[43mcapsize\u001b[49m\u001b[43m,\u001b[49m\u001b[43m \u001b[49m\u001b[43mdodge\u001b[49m\u001b[43m)\u001b[49m\n\u001b[0;32m   3187\u001b[0m     \u001b[38;5;28;01mif\u001b[39;00m ax \u001b[38;5;129;01mis\u001b[39;00m \u001b[38;5;28;01mNone\u001b[39;00m:\n\u001b[0;32m   3188\u001b[0m         ax \u001b[38;5;241m=\u001b[39m plt\u001b[38;5;241m.\u001b[39mgca()\n",
      "File \u001b[1;32m~\\anaconda3\\lib\\site-packages\\seaborn\\categorical.py:1587\u001b[0m, in \u001b[0;36m_BarPlotter.__init__\u001b[1;34m(self, x, y, hue, data, order, hue_order, estimator, ci, n_boot, units, seed, orient, color, palette, saturation, errcolor, errwidth, capsize, dodge)\u001b[0m\n\u001b[0;32m   1584\u001b[0m \u001b[38;5;28mself\u001b[39m\u001b[38;5;241m.\u001b[39mestablish_variables(x, y, hue, data, orient,\n\u001b[0;32m   1585\u001b[0m                          order, hue_order, units)\n\u001b[0;32m   1586\u001b[0m \u001b[38;5;28mself\u001b[39m\u001b[38;5;241m.\u001b[39mestablish_colors(color, palette, saturation)\n\u001b[1;32m-> 1587\u001b[0m \u001b[38;5;28;43mself\u001b[39;49m\u001b[38;5;241;43m.\u001b[39;49m\u001b[43mestimate_statistic\u001b[49m\u001b[43m(\u001b[49m\u001b[43mestimator\u001b[49m\u001b[43m,\u001b[49m\u001b[43m \u001b[49m\u001b[43mci\u001b[49m\u001b[43m,\u001b[49m\u001b[43m \u001b[49m\u001b[43mn_boot\u001b[49m\u001b[43m,\u001b[49m\u001b[43m \u001b[49m\u001b[43mseed\u001b[49m\u001b[43m)\u001b[49m\n\u001b[0;32m   1589\u001b[0m \u001b[38;5;28mself\u001b[39m\u001b[38;5;241m.\u001b[39mdodge \u001b[38;5;241m=\u001b[39m dodge\n\u001b[0;32m   1591\u001b[0m \u001b[38;5;28mself\u001b[39m\u001b[38;5;241m.\u001b[39merrcolor \u001b[38;5;241m=\u001b[39m errcolor\n",
      "File \u001b[1;32m~\\anaconda3\\lib\\site-packages\\seaborn\\categorical.py:1520\u001b[0m, in \u001b[0;36m_CategoricalStatPlotter.estimate_statistic\u001b[1;34m(self, estimator, ci, n_boot, seed)\u001b[0m\n\u001b[0;32m   1518\u001b[0m     statistic[i]\u001b[38;5;241m.\u001b[39mappend(np\u001b[38;5;241m.\u001b[39mnan)\n\u001b[0;32m   1519\u001b[0m \u001b[38;5;28;01melse\u001b[39;00m:\n\u001b[1;32m-> 1520\u001b[0m     statistic[i]\u001b[38;5;241m.\u001b[39mappend(\u001b[43mestimator\u001b[49m\u001b[43m(\u001b[49m\u001b[43mstat_data\u001b[49m\u001b[43m)\u001b[49m)\n\u001b[0;32m   1522\u001b[0m \u001b[38;5;66;03m# Get a confidence interval for this estimate\u001b[39;00m\n\u001b[0;32m   1523\u001b[0m \u001b[38;5;28;01mif\u001b[39;00m ci \u001b[38;5;129;01mis\u001b[39;00m \u001b[38;5;129;01mnot\u001b[39;00m \u001b[38;5;28;01mNone\u001b[39;00m:\n",
      "\u001b[1;31mTypeError\u001b[0m: 'float' object is not callable"
     ]
    },
    {
     "data": {
      "image/png": "[encoded data removed]",
      "text/plain": [
       "<Figure size 1440x720 with 1 Axes>"
      ]
     },
     "metadata": {
      "needs_background": "light"
     },
     "output_type": "display_data"
    }
   ],
   "source": [
    "#Bar Chart for average footfall in January\n",
    "plt.figure(figsize=(20,10))\n",
    "plt.title(\"Bar Chart of daily average pedestrians\", fontsize='16')\n",
    "ax=sns.barplot(x=\"Month\",y=\"Footfall\", data=df,estimator=mean,hue=\"DayOfWeek\", hue_order=hueOrder,order=[\"January\"]);"
   ]
  },
  {
   "cell_type": "code",
   "execution_count": null,
   "id": "6081f7c2",
   "metadata": {},
   "outputs": [],
   "source": [
    "#Bar chart for April\n",
    "plt.figure(figsize=(20,10))\n",
    "ax1=sns.barplot(x=\"Month\",y=\"Footfall\",data=df,estimator=mean,hue=\"DayOfWeek\", hue_order=hueOrder,order=[\"April\"]);"
   ]
  },
  {
   "cell_type": "code",
   "execution_count": null,
   "id": "23d43972",
   "metadata": {},
   "outputs": [],
   "source": [
    "#Bar Chart for September\n",
    "plt.figure(figsize=(20,10))\n",
    "ax2=sns.barplot(x=\"Month\",y=\"Footfall\",data=df,estimator=mean,hue=\"DayOfWeek\", hue_order=hueOrder,order=[\"September\"]);"
   ]
  },
  {
   "cell_type": "code",
   "execution_count": 46,
   "id": "721372e7",
   "metadata": {},
   "outputs": [
    {
     "data": {
      "text/html": [
       "<div>\n",
       "<style scoped>\n",
       "    .dataframe tbody tr th:only-of-type {\n",
       "        vertical-align: middle;\n",
       "    }\n",
       "\n",
       "    .dataframe tbody tr th {\n",
       "        vertical-align: top;\n",
       "    }\n",
       "\n",
       "    .dataframe thead th {\n",
       "        text-align: right;\n",
       "    }\n",
       "</style>\n",
       "<table border=\"1\" class=\"dataframe\">\n",
       "  <thead>\n",
       "    <tr style=\"text-align: right;\">\n",
       "      <th></th>\n",
       "      <th>Footfall</th>\n",
       "      <th>In</th>\n",
       "      <th>Out</th>\n",
       "    </tr>\n",
       "  </thead>\n",
       "  <tbody>\n",
       "    <tr>\n",
       "      <th>Footfall</th>\n",
       "      <td>1.000000</td>\n",
       "      <td>0.950962</td>\n",
       "      <td>0.928191</td>\n",
       "    </tr>\n",
       "    <tr>\n",
       "      <th>In</th>\n",
       "      <td>0.950962</td>\n",
       "      <td>1.000000</td>\n",
       "      <td>0.767578</td>\n",
       "    </tr>\n",
       "    <tr>\n",
       "      <th>Out</th>\n",
       "      <td>0.928191</td>\n",
       "      <td>0.767578</td>\n",
       "      <td>1.000000</td>\n",
       "    </tr>\n",
       "  </tbody>\n",
       "</table>\n",
       "</div>"
      ],
      "text/plain": [
       "          Footfall        In       Out\n",
       "Footfall  1.000000  0.950962  0.928191\n",
       "In        0.950962  1.000000  0.767578\n",
       "Out       0.928191  0.767578  1.000000"
      ]
     },
     "execution_count": 46,
     "metadata": {},
     "output_type": "execute_result"
    }
   ],
   "source": [
    "df.corr()"
   ]
  },
  {
   "cell_type": "code",
   "execution_count": 47,
   "id": "c96da1d6",
   "metadata": {},
   "outputs": [
    {
     "data": {
      "text/plain": [
       "Text(0.5, 0, 'Day of Year')"
      ]
     },
     "execution_count": 47,
     "metadata": {},
     "output_type": "execute_result"
    },
    {
     "data": {
      "image/png": "[encoded data removed]",
      "text/plain": [
       "<Figure size 720x360 with 1 Axes>"
      ]
     },
     "metadata": {
      "needs_background": "light"
     },
     "output_type": "display_data"
    }
   ],
   "source": [
    "#Scatterplot\n",
    "plt.figure(figsize=(10,5))\n",
    "ax2 = sns.scatterplot(data=df, x=df.index, y='Footfall',hue_order=hueOrder, hue='DayOfWeek')\n",
    "sns.move_legend(ax2, \"upper left\", bbox_to_anchor=(1, 1))\n",
    "plt.title(\"Scatterplot\")\n",
    "plt.xlabel(\"Day of Year\")"
   ]
  },
  {
   "cell_type": "markdown",
   "id": "ead661c4",
   "metadata": {},
   "source": [
    "# 4.Machine Learning"
   ]
  },
  {
   "cell_type": "markdown",
   "id": "40950120",
   "metadata": {},
   "source": [
    "## 4.1 Integer Encoding"
   ]
  },
  {
   "cell_type": "code",
   "execution_count": 53,
   "id": "a7f3cf7b",
   "metadata": {},
   "outputs": [],
   "source": [
    "#Goes through the days and puts all the results into an array. The weekday() function returns a number that represents the day\n",
    "dayArray1 = []\n",
    "for days in df[\"Date\"]:\n",
    "    dayArray1.append(days.weekday())"
   ]
  },
  {
   "cell_type": "code",
   "execution_count": 54,
   "id": "f611fcfd",
   "metadata": {},
   "outputs": [],
   "source": [
    "#Replaces day of the week with the integers\n",
    "df = df.assign(DayOfWeek=dayArray1)"
   ]
  },
  {
   "cell_type": "code",
   "execution_count": 55,
   "id": "b74445d5",
   "metadata": {},
   "outputs": [
    {
     "data": {
      "text/plain": [
       "1"
      ]
     },
     "execution_count": 55,
     "metadata": {},
     "output_type": "execute_result"
    }
   ],
   "source": [
    "#Test to see it worked\n",
    "df[\"Date\"][0].month"
   ]
  },
  {
   "cell_type": "code",
   "execution_count": 56,
   "id": "828359c1",
   "metadata": {},
   "outputs": [],
   "source": [
    "#Same as above but for months\n",
    "monthArray1 = []\n",
    "for month in df[\"Date\"]:\n",
    "    monthArray1.append(month.month)\n",
    "df = df.assign(Month=monthArray1)"
   ]
  },
  {
   "cell_type": "code",
   "execution_count": 57,
   "id": "e7ced5fb",
   "metadata": {},
   "outputs": [
    {
     "data": {
      "text/html": [
       "<div>\n",
       "<style scoped>\n",
       "    .dataframe tbody tr th:only-of-type {\n",
       "        vertical-align: middle;\n",
       "    }\n",
       "\n",
       "    .dataframe tbody tr th {\n",
       "        vertical-align: top;\n",
       "    }\n",
       "\n",
       "    .dataframe thead th {\n",
       "        text-align: right;\n",
       "    }\n",
       "</style>\n",
       "<table border=\"1\" class=\"dataframe\">\n",
       "  <thead>\n",
       "    <tr style=\"text-align: right;\">\n",
       "      <th></th>\n",
       "      <th>Date</th>\n",
       "      <th>Footfall</th>\n",
       "      <th>In</th>\n",
       "      <th>Out</th>\n",
       "      <th>DayOfWeek</th>\n",
       "      <th>Month</th>\n",
       "    </tr>\n",
       "  </thead>\n",
       "  <tbody>\n",
       "    <tr>\n",
       "      <th>0</th>\n",
       "      <td>2015-01-01</td>\n",
       "      <td>3481</td>\n",
       "      <td>1593</td>\n",
       "      <td>1888</td>\n",
       "      <td>3</td>\n",
       "      <td>1</td>\n",
       "    </tr>\n",
       "    <tr>\n",
       "      <th>1</th>\n",
       "      <td>2015-01-02</td>\n",
       "      <td>4437</td>\n",
       "      <td>2150</td>\n",
       "      <td>2287</td>\n",
       "      <td>4</td>\n",
       "      <td>1</td>\n",
       "    </tr>\n",
       "    <tr>\n",
       "      <th>2</th>\n",
       "      <td>2015-01-03</td>\n",
       "      <td>5278</td>\n",
       "      <td>2819</td>\n",
       "      <td>2459</td>\n",
       "      <td>5</td>\n",
       "      <td>1</td>\n",
       "    </tr>\n",
       "    <tr>\n",
       "      <th>3</th>\n",
       "      <td>2015-01-04</td>\n",
       "      <td>4098</td>\n",
       "      <td>2020</td>\n",
       "      <td>2078</td>\n",
       "      <td>6</td>\n",
       "      <td>1</td>\n",
       "    </tr>\n",
       "    <tr>\n",
       "      <th>4</th>\n",
       "      <td>2015-01-05</td>\n",
       "      <td>5757</td>\n",
       "      <td>3162</td>\n",
       "      <td>2595</td>\n",
       "      <td>0</td>\n",
       "      <td>1</td>\n",
       "    </tr>\n",
       "  </tbody>\n",
       "</table>\n",
       "</div>"
      ],
      "text/plain": [
       "        Date  Footfall    In   Out  DayOfWeek  Month\n",
       "0 2015-01-01      3481  1593  1888          3      1\n",
       "1 2015-01-02      4437  2150  2287          4      1\n",
       "2 2015-01-03      5278  2819  2459          5      1\n",
       "3 2015-01-04      4098  2020  2078          6      1\n",
       "4 2015-01-05      5757  3162  2595          0      1"
      ]
     },
     "execution_count": 57,
     "metadata": {},
     "output_type": "execute_result"
    }
   ],
   "source": [
    "df.head()"
   ]
  },
  {
   "cell_type": "markdown",
   "id": "cb068e5b",
   "metadata": {},
   "source": [
    "## 4.2 Building a SVM model"
   ]
  },
  {
   "cell_type": "code",
   "execution_count": 58,
   "id": "78345a0e",
   "metadata": {},
   "outputs": [
    {
     "name": "stdout",
     "output_type": "stream",
     "text": [
      "     Footfall  Month\n",
      "0        3481      1\n",
      "1        4437      1\n",
      "2        5278      1\n",
      "3        4098      1\n",
      "4        5757      1\n",
      "..        ...    ...\n",
      "360      4481     12\n",
      "361      4685     12\n",
      "362      5243     12\n",
      "363      5224     12\n",
      "364      5326     12\n",
      "\n",
      "[365 rows x 2 columns]\n"
     ]
    }
   ],
   "source": [
    "#Independent Variables\n",
    "X = df.drop(columns=[\"In\", \"Out\", \"DayOfWeek\", \"Date\"]) # Only want Month, Day\n",
    "print(X)"
   ]
  },
  {
   "cell_type": "code",
   "execution_count": 59,
   "id": "d633c014",
   "metadata": {},
   "outputs": [
    {
     "name": "stdout",
     "output_type": "stream",
     "text": [
      "0      3\n",
      "1      4\n",
      "2      5\n",
      "3      6\n",
      "4      0\n",
      "      ..\n",
      "360    6\n",
      "361    0\n",
      "362    1\n",
      "363    2\n",
      "364    3\n",
      "Name: DayOfWeek, Length: 365, dtype: int64\n"
     ]
    }
   ],
   "source": [
    "#Target Variable\n",
    "y = df[\"DayOfWeek\"]\n",
    "print(y)"
   ]
  },
  {
   "cell_type": "code",
   "execution_count": 132,
   "id": "42899597",
   "metadata": {},
   "outputs": [],
   "source": [
    "#Make the model\n",
    "model = SVC(random_state=3)"
   ]
  },
  {
   "cell_type": "code",
   "execution_count": 133,
   "id": "66b3f6d9",
   "metadata": {},
   "outputs": [
    {
     "data": {
      "text/plain": [
       "SVC(random_state=3)"
      ]
     },
     "execution_count": 133,
     "metadata": {},
     "output_type": "execute_result"
    }
   ],
   "source": [
    "#Test, train split\n",
    "X_train, X_test, y_train, y_test = train_test_split(X,y,test_size=0.3)\n",
    "\n",
    "#Scale the data\n",
    "sc = StandardScaler()\n",
    "X_train = sc.fit_transform(X_train)\n",
    "X_test = sc.transform(X_test)\n",
    "\n",
    "#Fit the model\n",
    "model.fit(X_train, y_train)"
   ]
  },
  {
   "cell_type": "code",
   "execution_count": 134,
   "id": "d6efb05d",
   "metadata": {},
   "outputs": [
    {
     "data": {
      "text/plain": [
       "0.2818181818181818"
      ]
     },
     "execution_count": 134,
     "metadata": {},
     "output_type": "execute_result"
    }
   ],
   "source": [
    "#See its score to test affectiveness\n",
    "model.score(X_test, y_test)"
   ]
  },
  {
   "cell_type": "code",
   "execution_count": 135,
   "id": "501bae75",
   "metadata": {},
   "outputs": [
    {
     "name": "stderr",
     "output_type": "stream",
     "text": [
      "C:\\Users\\yamyu\\anaconda3\\lib\\site-packages\\sklearn\\utils\\deprecation.py:87: FutureWarning: Function plot_confusion_matrix is deprecated; Function `plot_confusion_matrix` is deprecated in 1.0 and will be removed in 1.2. Use one of the class methods: ConfusionMatrixDisplay.from_predictions or ConfusionMatrixDisplay.from_estimator.\n",
      "  warnings.warn(msg, category=FutureWarning)\n"
     ]
    },
    {
     "data": {
      "text/plain": [
       "<sklearn.metrics._plot.confusion_matrix.ConfusionMatrixDisplay at 0x1808c208490>"
      ]
     },
     "execution_count": 135,
     "metadata": {},
     "output_type": "execute_result"
    },
    {
     "data": {
      "image/png": "[encoded data removed]",
      "text/plain": [
       "<Figure size 432x288 with 2 Axes>"
      ]
     },
     "metadata": {
      "needs_background": "light"
     },
     "output_type": "display_data"
    }
   ],
   "source": [
    "#Confusion Matrix\n",
    "plot_confusion_matrix(model,\n",
    "                      X_test,\n",
    "                      y_test,\n",
    "                      values_format=\"d\",\n",
    "                      display_labels=[\"Sun\",\n",
    "                                      \"Mon\",\n",
    "                                      \"Tues\",\n",
    "                                      \"Wed\",\n",
    "                                      \"Thurs\",\n",
    "                                     \"Fri\",\n",
    "                                     \"Sat\",])"
   ]
  },
  {
   "cell_type": "code",
   "execution_count": 136,
   "id": "11d1f746",
   "metadata": {},
   "outputs": [
    {
     "name": "stdout",
     "output_type": "stream",
     "text": [
      "{'C': 100, 'gamma': 0.01, 'kernel': 'rbf'}\n"
     ]
    }
   ],
   "source": [
    "#Find the best parameters to optimise the model\n",
    "parameterGrid=[\n",
    "    {\"C\":[0.5,1,10,100],\n",
    "     \"gamma\":[\"scale\", 1, 0.1, 0.01, 0.001, 0.0001],\n",
    "     \"kernel\":[\"rbf\"]},]\n",
    "\n",
    "optimalParameters = GridSearchCV(\n",
    "    SVC(),\n",
    "    parameterGrid,\n",
    "    cv=5,\n",
    "    scoring=\"accuracy\")\n",
    "optimalParameters.fit(X_train,y_train)\n",
    "print(optimalParameters.best_params_)"
   ]
  },
  {
   "cell_type": "markdown",
   "id": "37f94c45",
   "metadata": {},
   "source": [
    "Optimal values for C and gamma are 100 and 0.01 respectively"
   ]
  },
  {
   "cell_type": "code",
   "execution_count": 137,
   "id": "3e5ab10c",
   "metadata": {},
   "outputs": [
    {
     "data": {
      "text/plain": [
       "0.3181818181818182"
      ]
     },
     "execution_count": 137,
     "metadata": {},
     "output_type": "execute_result"
    }
   ],
   "source": [
    "#New model with optimised parameters and score\n",
    "model = SVC(random_state=3,C=100, gamma=0.01, kernel=\"rbf\")\n",
    "model.fit(X_train, y_train)\n",
    "model.score(X_test, y_test)"
   ]
  },
  {
   "cell_type": "markdown",
   "id": "7458a3e9",
   "metadata": {},
   "source": [
    "Accuracy score has been improved to ~32%"
   ]
  },
  {
   "cell_type": "code",
   "execution_count": 138,
   "id": "09abf3e3",
   "metadata": {},
   "outputs": [
    {
     "name": "stderr",
     "output_type": "stream",
     "text": [
      "C:\\Users\\yamyu\\anaconda3\\lib\\site-packages\\sklearn\\utils\\deprecation.py:87: FutureWarning: Function plot_confusion_matrix is deprecated; Function `plot_confusion_matrix` is deprecated in 1.0 and will be removed in 1.2. Use one of the class methods: ConfusionMatrixDisplay.from_predictions or ConfusionMatrixDisplay.from_estimator.\n",
      "  warnings.warn(msg, category=FutureWarning)\n"
     ]
    },
    {
     "data": {
      "text/plain": [
       "<sklearn.metrics._plot.confusion_matrix.ConfusionMatrixDisplay at 0x1808ec04a30>"
      ]
     },
     "execution_count": 138,
     "metadata": {},
     "output_type": "execute_result"
    },
    {
     "data": {
      "image/png": "[encoded data removed]",
      "text/plain": [
       "<Figure size 432x288 with 2 Axes>"
      ]
     },
     "metadata": {
      "needs_background": "light"
     },
     "output_type": "display_data"
    }
   ],
   "source": [
    "#Updated confusion matrix\n",
    "plot_confusion_matrix(model,\n",
    "                      X_test,\n",
    "                      y_test,\n",
    "                      values_format=\"d\",\n",
    "                      display_labels=[\"Sun\",\n",
    "                                      \"Mon\",\n",
    "                                      \"Tues\",\n",
    "                                      \"Wed\",\n",
    "                                      \"Thurs\",\n",
    "                                     \"Fri\",\n",
    "                                     \"Sat\",])"
   ]
  },
  {
   "cell_type": "code",
   "execution_count": 139,
   "id": "f41fd6ed",
   "metadata": {},
   "outputs": [
    {
     "name": "stdout",
     "output_type": "stream",
     "text": [
      "Precision is: 0.4973450195125072\n",
      "Recall is: 0.3063700918964077\n"
     ]
    }
   ],
   "source": [
    "#precision and recall\n",
    "y_pred = model.predict(X_test)\n",
    "print(\"Precision is: \" + str(metrics.precision_score(y_test, y_pred,average=\"macro\")))\n",
    "print(\"Recall is: \" + str(metrics.recall_score(y_test, y_pred,average=\"macro\")))"
   ]
  },
  {
   "cell_type": "markdown",
   "id": "6c3bb27d",
   "metadata": {},
   "source": [
    "## 4.3 Decision Tree Model"
   ]
  },
  {
   "cell_type": "markdown",
   "id": "18bac91f",
   "metadata": {},
   "source": [
    "## Preliminary Tree Model"
   ]
  },
  {
   "cell_type": "code",
   "execution_count": 141,
   "id": "ebf604de",
   "metadata": {},
   "outputs": [
    {
     "name": "stdout",
     "output_type": "stream",
     "text": [
      "Accuracy: 0.20909090909090908\n"
     ]
    }
   ],
   "source": [
    "# Make the model, fit it, print score\n",
    "treeModel = DecisionTreeClassifier(random_state=2)\n",
    "\n",
    "treeModel = treeModel.fit(X_train,y_train)\n",
    "\n",
    "y_pred = treeModel.predict(X_test)\n",
    "\n",
    "print(\"Accuracy:\",metrics.accuracy_score(y_test, y_pred))"
   ]
  },
  {
   "cell_type": "code",
   "execution_count": 142,
   "id": "fb529dee",
   "metadata": {},
   "outputs": [
    {
     "data": {
      "text/plain": [
       "[Text(0.3642702481273408, 0.9807692307692307, 'X[0] <= -0.64\\ngini = 0.857\\nsamples = 255\\nvalue = [36, 37, 34, 38, 37, 40, 33]'),\n",
       " Text(0.09082397003745318, 0.9423076923076923, 'X[0] <= -2.517\\ngini = 0.679\\nsamples = 54\\nvalue = [10, 3, 3, 3, 4, 3, 28]'),\n",
       " Text(0.03146067415730337, 0.9038461538461539, 'X[0] <= -4.257\\ngini = 0.667\\nsamples = 3\\nvalue = [1, 0, 0, 0, 1, 1, 0]'),\n",
       " Text(0.02546816479400749, 0.8653846153846154, 'gini = 0.0\\nsamples = 1\\nvalue = [0, 0, 0, 0, 1, 0, 0]'),\n",
       " Text(0.03745318352059925, 0.8653846153846154, 'X[1] <= 0.736\\ngini = 0.5\\nsamples = 2\\nvalue = [1, 0, 0, 0, 0, 1, 0]'),\n",
       " Text(0.03146067415730337, 0.8269230769230769, 'gini = 0.0\\nsamples = 1\\nvalue = [1, 0, 0, 0, 0, 0, 0]'),\n",
       " Text(0.04344569288389513, 0.8269230769230769, 'gini = 0.0\\nsamples = 1\\nvalue = [0, 0, 0, 0, 0, 1, 0]'),\n",
       " Text(0.150187265917603, 0.9038461538461539, 'X[0] <= -1.142\\ngini = 0.652\\nsamples = 51\\nvalue = [9, 3, 3, 3, 3, 2, 28]'),\n",
       " Text(0.09063670411985018, 0.8653846153846154, 'X[1] <= 0.593\\ngini = 0.518\\nsamples = 30\\nvalue = [5, 0, 2, 0, 2, 1, 20]'),\n",
       " Text(0.05543071161048689, 0.8269230769230769, 'X[0] <= -1.323\\ngini = 0.467\\nsamples = 21\\nvalue = [2, 0, 2, 0, 1, 1, 15]'),\n",
       " Text(0.03295880149812734, 0.7884615384615384, 'X[1] <= -1.409\\ngini = 0.383\\nsamples = 18\\nvalue = [1, 0, 1, 0, 1, 1, 14]'),\n",
       " Text(0.01198501872659176, 0.75, 'X[0] <= -1.983\\ngini = 0.56\\nsamples = 5\\nvalue = [0, 0, 1, 0, 1, 0, 3]'),\n",
       " Text(0.00599250936329588, 0.7115384615384616, 'gini = 0.0\\nsamples = 2\\nvalue = [0, 0, 0, 0, 0, 0, 2]'),\n",
       " Text(0.017977528089887642, 0.7115384615384616, 'X[0] <= -1.78\\ngini = 0.667\\nsamples = 3\\nvalue = [0, 0, 1, 0, 1, 0, 1]'),\n",
       " Text(0.01198501872659176, 0.6730769230769231, 'gini = 0.0\\nsamples = 1\\nvalue = [0, 0, 1, 0, 0, 0, 0]'),\n",
       " Text(0.02397003745318352, 0.6730769230769231, 'X[0] <= -1.676\\ngini = 0.5\\nsamples = 2\\nvalue = [0, 0, 0, 0, 1, 0, 1]'),\n",
       " Text(0.017977528089887642, 0.6346153846153846, 'gini = 0.0\\nsamples = 1\\nvalue = [0, 0, 0, 0, 1, 0, 0]'),\n",
       " Text(0.0299625468164794, 0.6346153846153846, 'gini = 0.0\\nsamples = 1\\nvalue = [0, 0, 0, 0, 0, 0, 1]'),\n",
       " Text(0.05393258426966292, 0.75, 'X[0] <= -1.997\\ngini = 0.272\\nsamples = 13\\nvalue = [1, 0, 0, 0, 0, 1, 11]'),\n",
       " Text(0.041947565543071164, 0.7115384615384616, 'X[0] <= -2.198\\ngini = 0.444\\nsamples = 3\\nvalue = [0, 0, 0, 0, 0, 1, 2]'),\n",
       " Text(0.035955056179775284, 0.6730769230769231, 'gini = 0.0\\nsamples = 2\\nvalue = [0, 0, 0, 0, 0, 0, 2]'),\n",
       " Text(0.04794007490636704, 0.6730769230769231, 'gini = 0.0\\nsamples = 1\\nvalue = [0, 0, 0, 0, 0, 1, 0]'),\n",
       " Text(0.06591760299625468, 0.7115384615384616, 'X[0] <= -1.488\\ngini = 0.18\\nsamples = 10\\nvalue = [1, 0, 0, 0, 0, 0, 9]'),\n",
       " Text(0.0599250936329588, 0.6730769230769231, 'gini = 0.0\\nsamples = 6\\nvalue = [0, 0, 0, 0, 0, 0, 6]'),\n",
       " Text(0.07191011235955057, 0.6730769230769231, 'X[0] <= -1.414\\ngini = 0.375\\nsamples = 4\\nvalue = [1, 0, 0, 0, 0, 0, 3]'),\n",
       " Text(0.06591760299625468, 0.6346153846153846, 'gini = 0.0\\nsamples = 1\\nvalue = [1, 0, 0, 0, 0, 0, 0]'),\n",
       " Text(0.07790262172284644, 0.6346153846153846, 'gini = 0.0\\nsamples = 3\\nvalue = [0, 0, 0, 0, 0, 0, 3]'),\n",
       " Text(0.07790262172284644, 0.7884615384615384, 'X[1] <= -0.98\\ngini = 0.667\\nsamples = 3\\nvalue = [1, 0, 1, 0, 0, 0, 1]'),\n",
       " Text(0.07191011235955057, 0.75, 'gini = 0.0\\nsamples = 1\\nvalue = [1, 0, 0, 0, 0, 0, 0]'),\n",
       " Text(0.08389513108614233, 0.75, 'X[1] <= -0.265\\ngini = 0.5\\nsamples = 2\\nvalue = [0, 0, 1, 0, 0, 0, 1]'),\n",
       " Text(0.07790262172284644, 0.7115384615384616, 'gini = 0.0\\nsamples = 1\\nvalue = [0, 0, 0, 0, 0, 0, 1]'),\n",
       " Text(0.0898876404494382, 0.7115384615384616, 'gini = 0.0\\nsamples = 1\\nvalue = [0, 0, 1, 0, 0, 0, 0]'),\n",
       " Text(0.1258426966292135, 0.8269230769230769, 'X[0] <= -1.371\\ngini = 0.568\\nsamples = 9\\nvalue = [3, 0, 0, 0, 1, 0, 5]'),\n",
       " Text(0.1198501872659176, 0.7884615384615384, 'X[0] <= -2.086\\ngini = 0.611\\nsamples = 6\\nvalue = [3, 0, 0, 0, 1, 0, 2]'),\n",
       " Text(0.10786516853932585, 0.75, 'X[0] <= -2.224\\ngini = 0.5\\nsamples = 2\\nvalue = [1, 0, 0, 0, 1, 0, 0]'),\n",
       " Text(0.10187265917602996, 0.7115384615384616, 'gini = 0.0\\nsamples = 1\\nvalue = [1, 0, 0, 0, 0, 0, 0]'),\n",
       " Text(0.11385767790262172, 0.7115384615384616, 'gini = 0.0\\nsamples = 1\\nvalue = [0, 0, 0, 0, 1, 0, 0]'),\n",
       " Text(0.13183520599250936, 0.75, 'X[1] <= 1.165\\ngini = 0.5\\nsamples = 4\\nvalue = [2, 0, 0, 0, 0, 0, 2]'),\n",
       " Text(0.1258426966292135, 0.7115384615384616, 'gini = 0.0\\nsamples = 1\\nvalue = [1, 0, 0, 0, 0, 0, 0]'),\n",
       " Text(0.13782771535580524, 0.7115384615384616, 'X[0] <= -1.527\\ngini = 0.444\\nsamples = 3\\nvalue = [1, 0, 0, 0, 0, 0, 2]'),\n",
       " Text(0.13183520599250936, 0.6730769230769231, 'gini = 0.0\\nsamples = 2\\nvalue = [0, 0, 0, 0, 0, 0, 2]'),\n",
       " Text(0.14382022471910114, 0.6730769230769231, 'gini = 0.0\\nsamples = 1\\nvalue = [1, 0, 0, 0, 0, 0, 0]'),\n",
       " Text(0.13183520599250936, 0.7884615384615384, 'gini = 0.0\\nsamples = 3\\nvalue = [0, 0, 0, 0, 0, 0, 3]'),\n",
       " Text(0.20973782771535582, 0.8653846153846154, 'X[1] <= -0.837\\ngini = 0.771\\nsamples = 21\\nvalue = [4, 3, 1, 3, 1, 1, 8]'),\n",
       " Text(0.18576779026217227, 0.8269230769230769, 'X[1] <= -1.123\\ngini = 0.806\\nsamples = 12\\nvalue = [4, 1, 1, 2, 1, 1, 2]'),\n",
       " Text(0.17378277153558053, 0.7884615384615384, 'X[0] <= -0.749\\ngini = 0.778\\nsamples = 6\\nvalue = [1, 0, 1, 2, 1, 1, 0]'),\n",
       " Text(0.16779026217228465, 0.75, 'X[1] <= -1.409\\ngini = 0.72\\nsamples = 5\\nvalue = [1, 0, 1, 2, 1, 0, 0]'),\n",
       " Text(0.16179775280898875, 0.7115384615384616, 'X[0] <= -1.121\\ngini = 0.75\\nsamples = 4\\nvalue = [1, 0, 1, 1, 1, 0, 0]'),\n",
       " Text(0.15580524344569288, 0.6730769230769231, 'gini = 0.0\\nsamples = 1\\nvalue = [0, 0, 0, 1, 0, 0, 0]'),\n",
       " Text(0.16779026217228465, 0.6730769230769231, 'X[0] <= -1.083\\ngini = 0.667\\nsamples = 3\\nvalue = [1, 0, 1, 0, 1, 0, 0]'),\n",
       " Text(0.16179775280898875, 0.6346153846153846, 'gini = 0.0\\nsamples = 1\\nvalue = [0, 0, 1, 0, 0, 0, 0]'),\n",
       " Text(0.17378277153558053, 0.6346153846153846, 'X[0] <= -1.033\\ngini = 0.5\\nsamples = 2\\nvalue = [1, 0, 0, 0, 1, 0, 0]'),\n",
       " Text(0.16779026217228465, 0.5961538461538461, 'gini = 0.0\\nsamples = 1\\nvalue = [0, 0, 0, 0, 1, 0, 0]'),\n",
       " Text(0.1797752808988764, 0.5961538461538461, 'gini = 0.0\\nsamples = 1\\nvalue = [1, 0, 0, 0, 0, 0, 0]'),\n",
       " Text(0.17378277153558053, 0.7115384615384616, 'gini = 0.0\\nsamples = 1\\nvalue = [0, 0, 0, 1, 0, 0, 0]'),\n",
       " Text(0.1797752808988764, 0.75, 'gini = 0.0\\nsamples = 1\\nvalue = [0, 0, 0, 0, 0, 1, 0]'),\n",
       " Text(0.19775280898876405, 0.7884615384615384, 'X[0] <= -0.791\\ngini = 0.611\\nsamples = 6\\nvalue = [3, 1, 0, 0, 0, 0, 2]'),\n",
       " Text(0.19176029962546817, 0.75, 'X[0] <= -0.876\\ngini = 0.48\\nsamples = 5\\nvalue = [3, 0, 0, 0, 0, 0, 2]'),\n",
       " Text(0.18576779026217227, 0.7115384615384616, 'X[0] <= -1.018\\ngini = 0.444\\nsamples = 3\\nvalue = [1, 0, 0, 0, 0, 0, 2]'),\n",
       " Text(0.1797752808988764, 0.6730769230769231, 'gini = 0.0\\nsamples = 1\\nvalue = [1, 0, 0, 0, 0, 0, 0]'),\n",
       " Text(0.19176029962546817, 0.6730769230769231, 'gini = 0.0\\nsamples = 2\\nvalue = [0, 0, 0, 0, 0, 0, 2]'),\n",
       " Text(0.19775280898876405, 0.7115384615384616, 'gini = 0.0\\nsamples = 2\\nvalue = [2, 0, 0, 0, 0, 0, 0]'),\n",
       " Text(0.20374531835205992, 0.75, 'gini = 0.0\\nsamples = 1\\nvalue = [0, 1, 0, 0, 0, 0, 0]'),\n",
       " Text(0.23370786516853934, 0.8269230769230769, 'X[1] <= 1.451\\ngini = 0.494\\nsamples = 9\\nvalue = [0, 2, 0, 1, 0, 0, 6]'),\n",
       " Text(0.22172284644194756, 0.7884615384615384, 'X[0] <= -0.995\\ngini = 0.245\\nsamples = 7\\nvalue = [0, 1, 0, 0, 0, 0, 6]'),\n",
       " Text(0.2157303370786517, 0.75, 'X[0] <= -1.07\\ngini = 0.5\\nsamples = 2\\nvalue = [0, 1, 0, 0, 0, 0, 1]'),\n",
       " Text(0.20973782771535582, 0.7115384615384616, 'gini = 0.0\\nsamples = 1\\nvalue = [0, 0, 0, 0, 0, 0, 1]'),\n",
       " Text(0.22172284644194756, 0.7115384615384616, 'gini = 0.0\\nsamples = 1\\nvalue = [0, 1, 0, 0, 0, 0, 0]'),\n",
       " Text(0.22771535580524344, 0.75, 'gini = 0.0\\nsamples = 5\\nvalue = [0, 0, 0, 0, 0, 0, 5]'),\n",
       " Text(0.24569288389513108, 0.7884615384615384, 'X[0] <= -0.747\\ngini = 0.5\\nsamples = 2\\nvalue = [0, 1, 0, 1, 0, 0, 0]'),\n",
       " Text(0.2397003745318352, 0.75, 'gini = 0.0\\nsamples = 1\\nvalue = [0, 0, 0, 1, 0, 0, 0]'),\n",
       " Text(0.251685393258427, 0.75, 'gini = 0.0\\nsamples = 1\\nvalue = [0, 1, 0, 0, 0, 0, 0]'),\n",
       " Text(0.6377165262172285, 0.9423076923076923, 'X[0] <= 0.242\\ngini = 0.839\\nsamples = 201\\nvalue = [26, 34, 31, 35, 33, 37, 5]'),\n",
       " Text(0.3936329588014981, 0.9038461538461539, 'X[0] <= -0.235\\ngini = 0.815\\nsamples = 79\\nvalue = [19, 21, 13, 4, 9, 8, 5]'),\n",
       " Text(0.31910112359550563, 0.8653846153846154, 'X[0] <= -0.44\\ngini = 0.793\\nsamples = 27\\nvalue = [9, 5, 2, 4, 0, 3, 4]'),\n",
       " Text(0.2906367041198502, 0.8269230769230769, 'X[0] <= -0.517\\ngini = 0.816\\nsamples = 14\\nvalue = [2, 2, 2, 4, 0, 2, 2]'),\n",
       " Text(0.2696629213483146, 0.7884615384615384, 'X[1] <= -0.98\\ngini = 0.611\\nsamples = 6\\nvalue = [2, 0, 1, 3, 0, 0, 0]'),\n",
       " Text(0.2636704119850187, 0.75, 'X[0] <= -0.606\\ngini = 0.625\\nsamples = 4\\nvalue = [2, 0, 1, 1, 0, 0, 0]'),\n",
       " Text(0.25767790262172285, 0.7115384615384616, 'gini = 0.0\\nsamples = 1\\nvalue = [1, 0, 0, 0, 0, 0, 0]'),\n",
       " Text(0.2696629213483146, 0.7115384615384616, 'X[0] <= -0.581\\ngini = 0.667\\nsamples = 3\\nvalue = [1, 0, 1, 1, 0, 0, 0]'),\n",
       " Text(0.2636704119850187, 0.6730769230769231, 'gini = 0.0\\nsamples = 1\\nvalue = [0, 0, 0, 1, 0, 0, 0]'),\n",
       " Text(0.27565543071161047, 0.6730769230769231, 'X[0] <= -0.571\\ngini = 0.5\\nsamples = 2\\nvalue = [1, 0, 1, 0, 0, 0, 0]'),\n",
       " Text(0.2696629213483146, 0.6346153846153846, 'gini = 0.0\\nsamples = 1\\nvalue = [0, 0, 1, 0, 0, 0, 0]'),\n",
       " Text(0.28164794007490634, 0.6346153846153846, 'gini = 0.0\\nsamples = 1\\nvalue = [1, 0, 0, 0, 0, 0, 0]'),\n",
       " Text(0.27565543071161047, 0.75, 'gini = 0.0\\nsamples = 2\\nvalue = [0, 0, 0, 2, 0, 0, 0]'),\n",
       " Text(0.31161048689138576, 0.7884615384615384, 'X[0] <= -0.447\\ngini = 0.781\\nsamples = 8\\nvalue = [0, 2, 1, 1, 0, 2, 2]'),\n",
       " Text(0.3056179775280899, 0.75, 'X[0] <= -0.504\\ngini = 0.735\\nsamples = 7\\nvalue = [0, 2, 1, 0, 0, 2, 2]'),\n",
       " Text(0.299625468164794, 0.7115384615384616, 'gini = 0.0\\nsamples = 1\\nvalue = [0, 0, 0, 0, 0, 0, 1]'),\n",
       " Text(0.31161048689138576, 0.7115384615384616, 'X[0] <= -0.474\\ngini = 0.722\\nsamples = 6\\nvalue = [0, 2, 1, 0, 0, 2, 1]'),\n",
       " Text(0.299625468164794, 0.6730769230769231, 'X[0] <= -0.491\\ngini = 0.625\\nsamples = 4\\nvalue = [0, 1, 1, 0, 0, 2, 0]'),\n",
       " Text(0.29363295880149815, 0.6346153846153846, 'gini = 0.0\\nsamples = 1\\nvalue = [0, 1, 0, 0, 0, 0, 0]'),\n",
       " Text(0.3056179775280899, 0.6346153846153846, 'X[1] <= -1.123\\ngini = 0.444\\nsamples = 3\\nvalue = [0, 0, 1, 0, 0, 2, 0]'),\n",
       " Text(0.299625468164794, 0.5961538461538461, 'gini = 0.0\\nsamples = 1\\nvalue = [0, 0, 0, 0, 0, 1, 0]'),\n",
       " Text(0.31161048689138576, 0.5961538461538461, 'X[1] <= 0.307\\ngini = 0.5\\nsamples = 2\\nvalue = [0, 0, 1, 0, 0, 1, 0]'),\n",
       " Text(0.3056179775280899, 0.5576923076923077, 'gini = 0.0\\nsamples = 1\\nvalue = [0, 0, 1, 0, 0, 0, 0]'),\n",
       " Text(0.31760299625468164, 0.5576923076923077, 'gini = 0.0\\nsamples = 1\\nvalue = [0, 0, 0, 0, 0, 1, 0]'),\n",
       " Text(0.3235955056179775, 0.6730769230769231, 'X[0] <= -0.458\\ngini = 0.5\\nsamples = 2\\nvalue = [0, 1, 0, 0, 0, 0, 1]'),\n",
       " Text(0.31760299625468164, 0.6346153846153846, 'gini = 0.0\\nsamples = 1\\nvalue = [0, 0, 0, 0, 0, 0, 1]'),\n",
       " Text(0.3295880149812734, 0.6346153846153846, 'gini = 0.0\\nsamples = 1\\nvalue = [0, 1, 0, 0, 0, 0, 0]'),\n",
       " Text(0.31760299625468164, 0.75, 'gini = 0.0\\nsamples = 1\\nvalue = [0, 0, 0, 1, 0, 0, 0]'),\n",
       " Text(0.34756554307116105, 0.8269230769230769, 'X[0] <= -0.357\\ngini = 0.627\\nsamples = 13\\nvalue = [7, 3, 0, 0, 0, 1, 2]'),\n",
       " Text(0.3355805243445693, 0.7884615384615384, 'X[1] <= -1.123\\ngini = 0.278\\nsamples = 6\\nvalue = [5, 1, 0, 0, 0, 0, 0]'),\n",
       " Text(0.3295880149812734, 0.75, 'X[0] <= -0.424\\ngini = 0.5\\nsamples = 2\\nvalue = [1, 1, 0, 0, 0, 0, 0]'),\n",
       " Text(0.3235955056179775, 0.7115384615384616, 'gini = 0.0\\nsamples = 1\\nvalue = [1, 0, 0, 0, 0, 0, 0]'),\n",
       " Text(0.3355805243445693, 0.7115384615384616, 'gini = 0.0\\nsamples = 1\\nvalue = [0, 1, 0, 0, 0, 0, 0]'),\n",
       " Text(0.3415730337078652, 0.75, 'gini = 0.0\\nsamples = 4\\nvalue = [4, 0, 0, 0, 0, 0, 0]'),\n",
       " Text(0.3595505617977528, 0.7884615384615384, 'X[1] <= -0.98\\ngini = 0.735\\nsamples = 7\\nvalue = [2, 2, 0, 0, 0, 1, 2]'),\n",
       " Text(0.3535580524344569, 0.75, 'gini = 0.0\\nsamples = 2\\nvalue = [2, 0, 0, 0, 0, 0, 0]'),\n",
       " Text(0.36554307116104867, 0.75, 'X[1] <= 1.308\\ngini = 0.64\\nsamples = 5\\nvalue = [0, 2, 0, 0, 0, 1, 2]'),\n",
       " Text(0.3595505617977528, 0.7115384615384616, 'X[1] <= -0.122\\ngini = 0.5\\nsamples = 4\\nvalue = [0, 2, 0, 0, 0, 0, 2]'),\n",
       " Text(0.3535580524344569, 0.6730769230769231, 'gini = 0.0\\nsamples = 1\\nvalue = [0, 1, 0, 0, 0, 0, 0]'),\n",
       " Text(0.36554307116104867, 0.6730769230769231, 'X[0] <= -0.338\\ngini = 0.444\\nsamples = 3\\nvalue = [0, 1, 0, 0, 0, 0, 2]'),\n",
       " Text(0.3595505617977528, 0.6346153846153846, 'gini = 0.0\\nsamples = 1\\nvalue = [0, 1, 0, 0, 0, 0, 0]'),\n",
       " Text(0.37153558052434454, 0.6346153846153846, 'gini = 0.0\\nsamples = 2\\nvalue = [0, 0, 0, 0, 0, 0, 2]'),\n",
       " Text(0.37153558052434454, 0.7115384615384616, 'gini = 0.0\\nsamples = 1\\nvalue = [0, 0, 0, 0, 0, 1, 0]'),\n",
       " Text(0.4681647940074906, 0.8653846153846154, 'X[0] <= -0.207\\ngini = 0.784\\nsamples = 52\\nvalue = [10, 16, 11, 0, 9, 5, 1]'),\n",
       " Text(0.46217228464419474, 0.8269230769230769, 'gini = 0.0\\nsamples = 2\\nvalue = [0, 0, 2, 0, 0, 0, 0]'),\n",
       " Text(0.47415730337078654, 0.8269230769230769, 'X[0] <= 0.064\\ngini = 0.782\\nsamples = 50\\nvalue = [10, 16, 9, 0, 9, 5, 1]'),\n",
       " Text(0.41947565543071164, 0.7884615384615384, 'X[1] <= -0.551\\ngini = 0.733\\nsamples = 31\\nvalue = [7, 13, 2, 0, 5, 3, 1]'),\n",
       " Text(0.3955056179775281, 0.75, 'X[0] <= -0.062\\ngini = 0.704\\nsamples = 14\\nvalue = [0, 5, 2, 0, 5, 2, 0]'),\n",
       " Text(0.38352059925093634, 0.7115384615384616, 'X[0] <= -0.2\\ngini = 0.617\\nsamples = 9\\nvalue = [0, 5, 2, 0, 1, 1, 0]'),\n",
       " Text(0.3775280898876405, 0.6730769230769231, 'gini = 0.0\\nsamples = 1\\nvalue = [0, 0, 1, 0, 0, 0, 0]'),\n",
       " Text(0.3895131086142322, 0.6730769230769231, 'X[0] <= -0.193\\ngini = 0.562\\nsamples = 8\\nvalue = [0, 5, 1, 0, 1, 1, 0]'),\n",
       " Text(0.38352059925093634, 0.6346153846153846, 'gini = 0.0\\nsamples = 2\\nvalue = [0, 2, 0, 0, 0, 0, 0]'),\n",
       " Text(0.3955056179775281, 0.6346153846153846, 'X[0] <= -0.161\\ngini = 0.667\\nsamples = 6\\nvalue = [0, 3, 1, 0, 1, 1, 0]'),\n",
       " Text(0.3895131086142322, 0.5961538461538461, 'gini = 0.0\\nsamples = 1\\nvalue = [0, 0, 0, 0, 1, 0, 0]'),\n",
       " Text(0.40149812734082396, 0.5961538461538461, 'X[0] <= -0.109\\ngini = 0.56\\nsamples = 5\\nvalue = [0, 3, 1, 0, 0, 1, 0]'),\n",
       " Text(0.3955056179775281, 0.5576923076923077, 'X[1] <= -1.123\\ngini = 0.667\\nsamples = 3\\nvalue = [0, 1, 1, 0, 0, 1, 0]'),\n",
       " Text(0.3895131086142322, 0.5192307692307693, 'X[0] <= -0.115\\ngini = 0.5\\nsamples = 2\\nvalue = [0, 0, 1, 0, 0, 1, 0]'),\n",
       " Text(0.38352059925093634, 0.4807692307692308, 'gini = 0.0\\nsamples = 1\\nvalue = [0, 0, 0, 0, 0, 1, 0]'),\n",
       " Text(0.3955056179775281, 0.4807692307692308, 'gini = 0.0\\nsamples = 1\\nvalue = [0, 0, 1, 0, 0, 0, 0]'),\n",
       " Text(0.40149812734082396, 0.5192307692307693, 'gini = 0.0\\nsamples = 1\\nvalue = [0, 1, 0, 0, 0, 0, 0]'),\n",
       " Text(0.40749063670411984, 0.5576923076923077, 'gini = 0.0\\nsamples = 2\\nvalue = [0, 2, 0, 0, 0, 0, 0]'),\n",
       " Text(0.40749063670411984, 0.7115384615384616, 'X[0] <= -0.021\\ngini = 0.32\\nsamples = 5\\nvalue = [0, 0, 0, 0, 4, 1, 0]'),\n",
       " Text(0.40149812734082396, 0.6730769230769231, 'gini = 0.0\\nsamples = 4\\nvalue = [0, 0, 0, 0, 4, 0, 0]'),\n",
       " Text(0.4134831460674157, 0.6730769230769231, 'gini = 0.0\\nsamples = 1\\nvalue = [0, 0, 0, 0, 0, 1, 0]'),\n",
       " Text(0.4434456928838951, 0.75, 'X[1] <= 1.451\\ngini = 0.602\\nsamples = 17\\nvalue = [7, 8, 0, 0, 0, 1, 1]'),\n",
       " Text(0.4314606741573034, 0.7115384615384616, 'X[0] <= -0.159\\ngini = 0.541\\nsamples = 14\\nvalue = [5, 8, 0, 0, 0, 1, 0]'),\n",
       " Text(0.4254681647940075, 0.6730769230769231, 'gini = 0.0\\nsamples = 4\\nvalue = [0, 4, 0, 0, 0, 0, 0]'),\n",
       " Text(0.43745318352059925, 0.6730769230769231, 'X[0] <= -0.043\\ngini = 0.58\\nsamples = 10\\nvalue = [5, 4, 0, 0, 0, 1, 0]'),\n",
       " Text(0.4314606741573034, 0.6346153846153846, 'gini = 0.0\\nsamples = 4\\nvalue = [4, 0, 0, 0, 0, 0, 0]'),\n",
       " Text(0.4434456928838951, 0.6346153846153846, 'X[0] <= 0.02\\ngini = 0.5\\nsamples = 6\\nvalue = [1, 4, 0, 0, 0, 1, 0]'),\n",
       " Text(0.43745318352059925, 0.5961538461538461, 'gini = 0.0\\nsamples = 3\\nvalue = [0, 3, 0, 0, 0, 0, 0]'),\n",
       " Text(0.449438202247191, 0.5961538461538461, 'X[1] <= 0.593\\ngini = 0.667\\nsamples = 3\\nvalue = [1, 1, 0, 0, 0, 1, 0]'),\n",
       " Text(0.4434456928838951, 0.5576923076923077, 'X[0] <= 0.041\\ngini = 0.5\\nsamples = 2\\nvalue = [1, 0, 0, 0, 0, 1, 0]'),\n",
       " Text(0.43745318352059925, 0.5192307692307693, 'gini = 0.0\\nsamples = 1\\nvalue = [0, 0, 0, 0, 0, 1, 0]'),\n",
       " Text(0.449438202247191, 0.5192307692307693, 'gini = 0.0\\nsamples = 1\\nvalue = [1, 0, 0, 0, 0, 0, 0]'),\n",
       " Text(0.45543071161048687, 0.5576923076923077, 'gini = 0.0\\nsamples = 1\\nvalue = [0, 1, 0, 0, 0, 0, 0]'),\n",
       " Text(0.45543071161048687, 0.7115384615384616, 'X[0] <= -0.183\\ngini = 0.444\\nsamples = 3\\nvalue = [2, 0, 0, 0, 0, 0, 1]'),\n",
       " Text(0.449438202247191, 0.6730769230769231, 'gini = 0.0\\nsamples = 1\\nvalue = [1, 0, 0, 0, 0, 0, 0]'),\n",
       " Text(0.46142322097378274, 0.6730769230769231, 'X[0] <= -0.109\\ngini = 0.5\\nsamples = 2\\nvalue = [1, 0, 0, 0, 0, 0, 1]'),\n",
       " Text(0.45543071161048687, 0.6346153846153846, 'gini = 0.0\\nsamples = 1\\nvalue = [0, 0, 0, 0, 0, 0, 1]'),\n",
       " Text(0.46741573033707867, 0.6346153846153846, 'gini = 0.0\\nsamples = 1\\nvalue = [1, 0, 0, 0, 0, 0, 0]'),\n",
       " Text(0.5288389513108614, 0.7884615384615384, 'X[0] <= 0.15\\ngini = 0.759\\nsamples = 19\\nvalue = [3, 3, 7, 0, 4, 2, 0]'),\n",
       " Text(0.5063670411985018, 0.75, 'X[0] <= 0.071\\ngini = 0.678\\nsamples = 11\\nvalue = [1, 0, 5, 0, 3, 2, 0]'),\n",
       " Text(0.500374531835206, 0.7115384615384616, 'gini = 0.0\\nsamples = 1\\nvalue = [0, 0, 0, 0, 1, 0, 0]'),\n",
       " Text(0.5123595505617977, 0.7115384615384616, 'X[0] <= 0.147\\ngini = 0.66\\nsamples = 10\\nvalue = [1, 0, 5, 0, 2, 2, 0]'),\n",
       " Text(0.5063670411985018, 0.6730769230769231, 'X[1] <= -0.408\\ngini = 0.617\\nsamples = 9\\nvalue = [1, 0, 5, 0, 1, 2, 0]'),\n",
       " Text(0.4853932584269663, 0.6346153846153846, 'X[1] <= -0.837\\ngini = 0.64\\nsamples = 5\\nvalue = [1, 0, 2, 0, 0, 2, 0]'),\n",
       " Text(0.47340823970037454, 0.5961538461538461, 'X[0] <= 0.11\\ngini = 0.444\\nsamples = 3\\nvalue = [0, 0, 2, 0, 0, 1, 0]'),\n",
       " Text(0.46741573033707867, 0.5576923076923077, 'gini = 0.0\\nsamples = 1\\nvalue = [0, 0, 1, 0, 0, 0, 0]'),\n",
       " Text(0.4794007490636704, 0.5576923076923077, 'X[0] <= 0.144\\ngini = 0.5\\nsamples = 2\\nvalue = [0, 0, 1, 0, 0, 1, 0]'),\n",
       " Text(0.47340823970037454, 0.5192307692307693, 'gini = 0.0\\nsamples = 1\\nvalue = [0, 0, 0, 0, 0, 1, 0]'),\n",
       " Text(0.4853932584269663, 0.5192307692307693, 'gini = 0.0\\nsamples = 1\\nvalue = [0, 0, 1, 0, 0, 0, 0]'),\n",
       " Text(0.49737827715355803, 0.5961538461538461, 'X[0] <= 0.118\\ngini = 0.5\\nsamples = 2\\nvalue = [1, 0, 0, 0, 0, 1, 0]'),\n",
       " Text(0.49138576779026216, 0.5576923076923077, 'gini = 0.0\\nsamples = 1\\nvalue = [0, 0, 0, 0, 0, 1, 0]'),\n",
       " Text(0.503370786516854, 0.5576923076923077, 'gini = 0.0\\nsamples = 1\\nvalue = [1, 0, 0, 0, 0, 0, 0]'),\n",
       " Text(0.5273408239700375, 0.6346153846153846, 'X[0] <= 0.122\\ngini = 0.375\\nsamples = 4\\nvalue = [0, 0, 3, 0, 1, 0, 0]'),\n",
       " Text(0.5213483146067416, 0.5961538461538461, 'X[1] <= 0.593\\ngini = 0.5\\nsamples = 2\\nvalue = [0, 0, 1, 0, 1, 0, 0]'),\n",
       " Text(0.5153558052434457, 0.5576923076923077, 'gini = 0.0\\nsamples = 1\\nvalue = [0, 0, 1, 0, 0, 0, 0]'),\n",
       " Text(0.5273408239700375, 0.5576923076923077, 'gini = 0.0\\nsamples = 1\\nvalue = [0, 0, 0, 0, 1, 0, 0]'),\n",
       " Text(0.5333333333333333, 0.5961538461538461, 'gini = 0.0\\nsamples = 2\\nvalue = [0, 0, 2, 0, 0, 0, 0]'),\n",
       " Text(0.5183520599250936, 0.6730769230769231, 'gini = 0.0\\nsamples = 1\\nvalue = [0, 0, 0, 0, 1, 0, 0]'),\n",
       " Text(0.5513108614232209, 0.75, 'X[0] <= 0.214\\ngini = 0.719\\nsamples = 8\\nvalue = [2, 3, 2, 0, 1, 0, 0]'),\n",
       " Text(0.5393258426966292, 0.7115384615384616, 'X[0] <= 0.164\\ngini = 0.56\\nsamples = 5\\nvalue = [1, 3, 0, 0, 1, 0, 0]'),\n",
       " Text(0.5333333333333333, 0.6730769230769231, 'gini = 0.0\\nsamples = 2\\nvalue = [0, 2, 0, 0, 0, 0, 0]'),\n",
       " Text(0.5453183520599251, 0.6730769230769231, 'X[1] <= -0.694\\ngini = 0.667\\nsamples = 3\\nvalue = [1, 1, 0, 0, 1, 0, 0]'),\n",
       " Text(0.5393258426966292, 0.6346153846153846, 'gini = 0.0\\nsamples = 1\\nvalue = [0, 0, 0, 0, 1, 0, 0]'),\n",
       " Text(0.5513108614232209, 0.6346153846153846, 'X[1] <= 0.45\\ngini = 0.5\\nsamples = 2\\nvalue = [1, 1, 0, 0, 0, 0, 0]'),\n",
       " Text(0.5453183520599251, 0.5961538461538461, 'gini = 0.0\\nsamples = 1\\nvalue = [1, 0, 0, 0, 0, 0, 0]'),\n",
       " Text(0.5573033707865168, 0.5961538461538461, 'gini = 0.0\\nsamples = 1\\nvalue = [0, 1, 0, 0, 0, 0, 0]'),\n",
       " Text(0.5632958801498127, 0.7115384615384616, 'X[0] <= 0.233\\ngini = 0.444\\nsamples = 3\\nvalue = [1, 0, 2, 0, 0, 0, 0]'),\n",
       " Text(0.5573033707865168, 0.6730769230769231, 'gini = 0.0\\nsamples = 2\\nvalue = [0, 0, 2, 0, 0, 0, 0]'),\n",
       " Text(0.5692883895131086, 0.6730769230769231, 'gini = 0.0\\nsamples = 1\\nvalue = [1, 0, 0, 0, 0, 0, 0]'),\n",
       " Text(0.8818000936329587, 0.9038461538461539, 'X[0] <= 1.317\\ngini = 0.804\\nsamples = 122\\nvalue = [7, 13, 18, 31, 24, 29, 0]'),\n",
       " Text(0.7875702247191011, 0.8653846153846154, 'X[1] <= 0.593\\ngini = 0.805\\nsamples = 112\\nvalue = [7, 13, 18, 31, 19, 24, 0]'),\n",
       " Text(0.6919943820224719, 0.8269230769230769, 'X[0] <= 1.003\\ngini = 0.761\\nsamples = 69\\nvalue = [2, 4, 7, 22, 15, 19, 0]'),\n",
       " Text(0.6596441947565543, 0.7884615384615384, 'X[0] <= 0.924\\ngini = 0.753\\nsamples = 60\\nvalue = [1, 4, 7, 20, 10, 18, 0]'),\n",
       " Text(0.6398876404494382, 0.75, 'X[0] <= 0.899\\ngini = 0.761\\nsamples = 55\\nvalue = [1, 4, 7, 19, 10, 14, 0]'),\n",
       " Text(0.6338951310861424, 0.7115384615384616, 'X[0] <= 0.839\\ngini = 0.771\\nsamples = 52\\nvalue = [1, 4, 7, 16, 10, 14, 0]'),\n",
       " Text(0.6123595505617978, 0.6730769230769231, 'X[0] <= 0.821\\ngini = 0.764\\nsamples = 49\\nvalue = [1, 4, 5, 16, 10, 13, 0]'),\n",
       " Text(0.6063670411985018, 0.6346153846153846, 'X[0] <= 0.312\\ngini = 0.762\\nsamples = 48\\nvalue = [1, 4, 5, 16, 9, 13, 0]'),\n",
       " Text(0.5692883895131086, 0.5961538461538461, 'X[0] <= 0.247\\ngini = 0.722\\nsamples = 6\\nvalue = [0, 0, 2, 1, 2, 1, 0]'),\n",
       " Text(0.5632958801498127, 0.5576923076923077, 'gini = 0.0\\nsamples = 1\\nvalue = [0, 0, 0, 1, 0, 0, 0]'),\n",
       " Text(0.5752808988764045, 0.5576923076923077, 'X[0] <= 0.258\\ngini = 0.64\\nsamples = 5\\nvalue = [0, 0, 2, 0, 2, 1, 0]'),\n",
       " Text(0.5692883895131086, 0.5192307692307693, 'gini = 0.0\\nsamples = 1\\nvalue = [0, 0, 1, 0, 0, 0, 0]'),\n",
       " Text(0.5812734082397004, 0.5192307692307693, 'X[0] <= 0.293\\ngini = 0.625\\nsamples = 4\\nvalue = [0, 0, 1, 0, 2, 1, 0]'),\n",
       " Text(0.5752808988764045, 0.4807692307692308, 'X[1] <= -1.123\\ngini = 0.444\\nsamples = 3\\nvalue = [0, 0, 0, 0, 2, 1, 0]'),\n",
       " Text(0.5692883895131086, 0.4423076923076923, 'gini = 0.0\\nsamples = 1\\nvalue = [0, 0, 0, 0, 1, 0, 0]'),\n",
       " Text(0.5812734082397004, 0.4423076923076923, 'X[0] <= 0.273\\ngini = 0.5\\nsamples = 2\\nvalue = [0, 0, 0, 0, 1, 1, 0]'),\n",
       " Text(0.5752808988764045, 0.40384615384615385, 'gini = 0.0\\nsamples = 1\\nvalue = [0, 0, 0, 0, 0, 1, 0]'),\n",
       " Text(0.5872659176029963, 0.40384615384615385, 'gini = 0.0\\nsamples = 1\\nvalue = [0, 0, 0, 0, 1, 0, 0]'),\n",
       " Text(0.5872659176029963, 0.4807692307692308, 'gini = 0.0\\nsamples = 1\\nvalue = [0, 0, 1, 0, 0, 0, 0]'),\n",
       " Text(0.6434456928838951, 0.5961538461538461, 'X[0] <= 0.44\\ngini = 0.748\\nsamples = 42\\nvalue = [1, 4, 3, 15, 7, 12, 0]'),\n",
       " Text(0.6052434456928839, 0.5576923076923077, 'X[0] <= 0.33\\ngini = 0.597\\nsamples = 12\\nvalue = [0, 1, 0, 7, 2, 2, 0]'),\n",
       " Text(0.599250936329588, 0.5192307692307693, 'gini = 0.0\\nsamples = 2\\nvalue = [0, 0, 0, 2, 0, 0, 0]'),\n",
       " Text(0.6112359550561798, 0.5192307692307693, 'X[0] <= 0.344\\ngini = 0.66\\nsamples = 10\\nvalue = [0, 1, 0, 5, 2, 2, 0]'),\n",
       " Text(0.599250936329588, 0.4807692307692308, 'X[0] <= 0.335\\ngini = 0.667\\nsamples = 3\\nvalue = [0, 1, 0, 0, 1, 1, 0]'),\n",
       " Text(0.5932584269662922, 0.4423076923076923, 'gini = 0.0\\nsamples = 1\\nvalue = [0, 0, 0, 0, 1, 0, 0]'),\n",
       " Text(0.6052434456928839, 0.4423076923076923, 'X[1] <= -0.551\\ngini = 0.5\\nsamples = 2\\nvalue = [0, 1, 0, 0, 0, 1, 0]'),\n",
       " Text(0.599250936329588, 0.40384615384615385, 'gini = 0.0\\nsamples = 1\\nvalue = [0, 0, 0, 0, 0, 1, 0]'),\n",
       " Text(0.6112359550561798, 0.40384615384615385, 'gini = 0.0\\nsamples = 1\\nvalue = [0, 1, 0, 0, 0, 0, 0]'),\n",
       " Text(0.6232209737827715, 0.4807692307692308, 'X[1] <= 0.021\\ngini = 0.449\\nsamples = 7\\nvalue = [0, 0, 0, 5, 1, 1, 0]'),\n",
       " Text(0.6172284644194757, 0.4423076923076923, 'gini = 0.0\\nsamples = 3\\nvalue = [0, 0, 0, 3, 0, 0, 0]'),\n",
       " Text(0.6292134831460674, 0.4423076923076923, 'X[0] <= 0.391\\ngini = 0.625\\nsamples = 4\\nvalue = [0, 0, 0, 2, 1, 1, 0]'),\n",
       " Text(0.6232209737827715, 0.40384615384615385, 'X[1] <= 0.307\\ngini = 0.444\\nsamples = 3\\nvalue = [0, 0, 0, 2, 0, 1, 0]'),\n",
       " Text(0.6172284644194757, 0.36538461538461536, 'X[0] <= 0.38\\ngini = 0.5\\nsamples = 2\\nvalue = [0, 0, 0, 1, 0, 1, 0]'),\n",
       " Text(0.6112359550561798, 0.3269230769230769, 'gini = 0.0\\nsamples = 1\\nvalue = [0, 0, 0, 0, 0, 1, 0]'),\n",
       " Text(0.6232209737827715, 0.3269230769230769, 'gini = 0.0\\nsamples = 1\\nvalue = [0, 0, 0, 1, 0, 0, 0]'),\n",
       " Text(0.6292134831460674, 0.36538461538461536, 'gini = 0.0\\nsamples = 1\\nvalue = [0, 0, 0, 1, 0, 0, 0]'),\n",
       " Text(0.6352059925093633, 0.40384615384615385, 'gini = 0.0\\nsamples = 1\\nvalue = [0, 0, 0, 0, 1, 0, 0]'),\n",
       " Text(0.6816479400749064, 0.5576923076923077, 'X[0] <= 0.487\\ngini = 0.769\\nsamples = 30\\nvalue = [1, 3, 3, 8, 5, 10, 0]'),\n",
       " Text(0.6756554307116105, 0.5192307692307693, 'gini = 0.0\\nsamples = 2\\nvalue = [0, 0, 0, 0, 0, 2, 0]'),\n",
       " Text(0.6876404494382022, 0.5192307692307693, 'X[1] <= 0.021\\ngini = 0.781\\nsamples = 28\\nvalue = [1, 3, 3, 8, 5, 8, 0]'),\n",
       " Text(0.647191011235955, 0.4807692307692308, 'X[0] <= 0.513\\ngini = 0.715\\nsamples = 20\\nvalue = [0, 1, 2, 6, 3, 8, 0]'),\n",
       " Text(0.6411985018726591, 0.4423076923076923, 'gini = 0.0\\nsamples = 1\\nvalue = [0, 0, 0, 0, 1, 0, 0]'),\n",
       " Text(0.6531835205992509, 0.4423076923076923, 'X[0] <= 0.519\\ngini = 0.698\\nsamples = 19\\nvalue = [0, 1, 2, 6, 2, 8, 0]'),\n",
       " Text(0.647191011235955, 0.40384615384615385, 'gini = 0.0\\nsamples = 1\\nvalue = [0, 0, 0, 1, 0, 0, 0]'),\n",
       " Text(0.6591760299625468, 0.40384615384615385, 'X[0] <= 0.572\\ngini = 0.698\\nsamples = 18\\nvalue = [0, 1, 2, 5, 2, 8, 0]'),\n",
       " Text(0.6441947565543071, 0.36538461538461536, 'X[0] <= 0.555\\ngini = 0.5\\nsamples = 6\\nvalue = [0, 0, 1, 0, 1, 4, 0]'),\n",
       " Text(0.6382022471910113, 0.3269230769230769, 'X[0] <= 0.528\\ngini = 0.667\\nsamples = 3\\nvalue = [0, 0, 1, 0, 1, 1, 0]'),\n",
       " Text(0.6322097378277154, 0.28846153846153844, 'gini = 0.0\\nsamples = 1\\nvalue = [0, 0, 0, 0, 0, 1, 0]'),\n",
       " Text(0.6441947565543071, 0.28846153846153844, 'X[1] <= -0.551\\ngini = 0.5\\nsamples = 2\\nvalue = [0, 0, 1, 0, 1, 0, 0]'),\n",
       " Text(0.6382022471910113, 0.25, 'gini = 0.0\\nsamples = 1\\nvalue = [0, 0, 0, 0, 1, 0, 0]'),\n",
       " Text(0.650187265917603, 0.25, 'gini = 0.0\\nsamples = 1\\nvalue = [0, 0, 1, 0, 0, 0, 0]'),\n",
       " Text(0.650187265917603, 0.3269230769230769, 'gini = 0.0\\nsamples = 3\\nvalue = [0, 0, 0, 0, 0, 3, 0]'),\n",
       " Text(0.6741573033707865, 0.36538461538461536, 'X[1] <= -1.123\\ngini = 0.694\\nsamples = 12\\nvalue = [0, 1, 1, 5, 1, 4, 0]'),\n",
       " Text(0.6681647940074906, 0.3269230769230769, 'gini = 0.0\\nsamples = 1\\nvalue = [0, 0, 1, 0, 0, 0, 0]'),\n",
       " Text(0.6801498127340824, 0.3269230769230769, 'X[0] <= 0.607\\ngini = 0.645\\nsamples = 11\\nvalue = [0, 1, 0, 5, 1, 4, 0]'),\n",
       " Text(0.6681647940074906, 0.28846153846153844, 'X[0] <= 0.59\\ngini = 0.5\\nsamples = 2\\nvalue = [0, 1, 0, 1, 0, 0, 0]'),\n",
       " Text(0.6621722846441948, 0.25, 'gini = 0.0\\nsamples = 1\\nvalue = [0, 0, 0, 1, 0, 0, 0]'),\n",
       " Text(0.6741573033707865, 0.25, 'gini = 0.0\\nsamples = 1\\nvalue = [0, 1, 0, 0, 0, 0, 0]'),\n",
       " Text(0.6921348314606741, 0.28846153846153844, 'X[0] <= 0.611\\ngini = 0.593\\nsamples = 9\\nvalue = [0, 0, 0, 4, 1, 4, 0]'),\n",
       " Text(0.6861423220973782, 0.25, 'gini = 0.0\\nsamples = 1\\nvalue = [0, 0, 0, 0, 0, 1, 0]'),\n",
       " Text(0.69812734082397, 0.25, 'X[0] <= 0.799\\ngini = 0.594\\nsamples = 8\\nvalue = [0, 0, 0, 4, 1, 3, 0]'),\n",
       " Text(0.6921348314606741, 0.21153846153846154, 'X[0] <= 0.754\\ngini = 0.571\\nsamples = 7\\nvalue = [0, 0, 0, 4, 1, 2, 0]'),\n",
       " Text(0.6861423220973782, 0.17307692307692307, 'X[0] <= 0.73\\ngini = 0.64\\nsamples = 5\\nvalue = [0, 0, 0, 2, 1, 2, 0]'),\n",
       " Text(0.6801498127340824, 0.1346153846153846, 'X[0] <= 0.643\\ngini = 0.5\\nsamples = 4\\nvalue = [0, 0, 0, 2, 0, 2, 0]'),\n",
       " Text(0.6741573033707865, 0.09615384615384616, 'gini = 0.0\\nsamples = 1\\nvalue = [0, 0, 0, 1, 0, 0, 0]'),\n",
       " Text(0.6861423220973782, 0.09615384615384616, 'X[1] <= -0.265\\ngini = 0.444\\nsamples = 3\\nvalue = [0, 0, 0, 1, 0, 2, 0]'),\n",
       " Text(0.6801498127340824, 0.057692307692307696, 'gini = 0.0\\nsamples = 1\\nvalue = [0, 0, 0, 0, 0, 1, 0]'),\n",
       " Text(0.6921348314606741, 0.057692307692307696, 'X[0] <= 0.707\\ngini = 0.5\\nsamples = 2\\nvalue = [0, 0, 0, 1, 0, 1, 0]'),\n",
       " Text(0.6861423220973782, 0.019230769230769232, 'gini = 0.0\\nsamples = 1\\nvalue = [0, 0, 0, 1, 0, 0, 0]'),\n",
       " Text(0.69812734082397, 0.019230769230769232, 'gini = 0.0\\nsamples = 1\\nvalue = [0, 0, 0, 0, 0, 1, 0]'),\n",
       " Text(0.6921348314606741, 0.1346153846153846, 'gini = 0.0\\nsamples = 1\\nvalue = [0, 0, 0, 0, 1, 0, 0]'),\n",
       " Text(0.69812734082397, 0.17307692307692307, 'gini = 0.0\\nsamples = 2\\nvalue = [0, 0, 0, 2, 0, 0, 0]'),\n",
       " Text(0.704119850187266, 0.21153846153846154, 'gini = 0.0\\nsamples = 1\\nvalue = [0, 0, 0, 0, 0, 1, 0]'),\n",
       " Text(0.7280898876404495, 0.4807692307692308, 'X[0] <= 0.678\\ngini = 0.781\\nsamples = 8\\nvalue = [1, 2, 1, 2, 2, 0, 0]'),\n",
       " Text(0.7161048689138577, 0.4423076923076923, 'X[1] <= 0.307\\ngini = 0.72\\nsamples = 5\\nvalue = [1, 2, 1, 1, 0, 0, 0]'),\n",
       " Text(0.7101123595505618, 0.40384615384615385, 'X[0] <= 0.622\\ngini = 0.625\\nsamples = 4\\nvalue = [0, 2, 1, 1, 0, 0, 0]'),\n",
       " Text(0.704119850187266, 0.36538461538461536, 'X[0] <= 0.559\\ngini = 0.444\\nsamples = 3\\nvalue = [0, 2, 0, 1, 0, 0, 0]'),\n",
       " Text(0.69812734082397, 0.3269230769230769, 'gini = 0.0\\nsamples = 1\\nvalue = [0, 1, 0, 0, 0, 0, 0]'),\n",
       " Text(0.7101123595505618, 0.3269230769230769, 'X[0] <= 0.572\\ngini = 0.5\\nsamples = 2\\nvalue = [0, 1, 0, 1, 0, 0, 0]'),\n",
       " Text(0.704119850187266, 0.28846153846153844, 'gini = 0.0\\nsamples = 1\\nvalue = [0, 0, 0, 1, 0, 0, 0]'),\n",
       " Text(0.7161048689138577, 0.28846153846153844, 'gini = 0.0\\nsamples = 1\\nvalue = [0, 1, 0, 0, 0, 0, 0]'),\n",
       " Text(0.7161048689138577, 0.36538461538461536, 'gini = 0.0\\nsamples = 1\\nvalue = [0, 0, 1, 0, 0, 0, 0]'),\n",
       " Text(0.7220973782771536, 0.40384615384615385, 'gini = 0.0\\nsamples = 1\\nvalue = [1, 0, 0, 0, 0, 0, 0]'),\n",
       " Text(0.7400749063670412, 0.4423076923076923, 'X[0] <= 0.769\\ngini = 0.444\\nsamples = 3\\nvalue = [0, 0, 0, 1, 2, 0, 0]'),\n",
       " Text(0.7340823970037453, 0.40384615384615385, 'gini = 0.0\\nsamples = 2\\nvalue = [0, 0, 0, 0, 2, 0, 0]'),\n",
       " Text(0.7460674157303371, 0.40384615384615385, 'gini = 0.0\\nsamples = 1\\nvalue = [0, 0, 0, 1, 0, 0, 0]'),\n",
       " Text(0.6183520599250937, 0.6346153846153846, 'gini = 0.0\\nsamples = 1\\nvalue = [0, 0, 0, 0, 1, 0, 0]'),\n",
       " Text(0.6554307116104869, 0.6730769230769231, 'X[0] <= 0.858\\ngini = 0.444\\nsamples = 3\\nvalue = [0, 0, 2, 0, 0, 1, 0]'),\n",
       " Text(0.6494382022471911, 0.6346153846153846, 'gini = 0.0\\nsamples = 1\\nvalue = [0, 0, 1, 0, 0, 0, 0]'),\n",
       " Text(0.6614232209737828, 0.6346153846153846, 'X[0] <= 0.881\\ngini = 0.5\\nsamples = 2\\nvalue = [0, 0, 1, 0, 0, 1, 0]'),\n",
       " Text(0.6554307116104869, 0.5961538461538461, 'gini = 0.0\\nsamples = 1\\nvalue = [0, 0, 0, 0, 0, 1, 0]'),\n",
       " Text(0.6674157303370787, 0.5961538461538461, 'gini = 0.0\\nsamples = 1\\nvalue = [0, 0, 1, 0, 0, 0, 0]'),\n",
       " Text(0.6458801498127341, 0.7115384615384616, 'gini = 0.0\\nsamples = 3\\nvalue = [0, 0, 0, 3, 0, 0, 0]'),\n",
       " Text(0.6794007490636704, 0.75, 'X[1] <= -0.265\\ngini = 0.32\\nsamples = 5\\nvalue = [0, 0, 0, 1, 0, 4, 0]'),\n",
       " Text(0.6734082397003746, 0.7115384615384616, 'X[0] <= 0.966\\ngini = 0.5\\nsamples = 2\\nvalue = [0, 0, 0, 1, 0, 1, 0]'),\n",
       " Text(0.6674157303370787, 0.6730769230769231, 'gini = 0.0\\nsamples = 1\\nvalue = [0, 0, 0, 0, 0, 1, 0]'),\n",
       " Text(0.6794007490636704, 0.6730769230769231, 'gini = 0.0\\nsamples = 1\\nvalue = [0, 0, 0, 1, 0, 0, 0]'),\n",
       " Text(0.6853932584269663, 0.7115384615384616, 'gini = 0.0\\nsamples = 3\\nvalue = [0, 0, 0, 0, 0, 3, 0]'),\n",
       " Text(0.7243445692883895, 0.7884615384615384, 'X[0] <= 1.237\\ngini = 0.617\\nsamples = 9\\nvalue = [1, 0, 0, 2, 5, 1, 0]'),\n",
       " Text(0.7093632958801498, 0.75, 'X[1] <= -0.694\\ngini = 0.449\\nsamples = 7\\nvalue = [1, 0, 0, 1, 5, 0, 0]'),\n",
       " Text(0.697378277153558, 0.7115384615384616, 'X[0] <= 1.095\\ngini = 0.5\\nsamples = 2\\nvalue = [1, 0, 0, 0, 1, 0, 0]'),\n",
       " Text(0.6913857677902622, 0.6730769230769231, 'gini = 0.0\\nsamples = 1\\nvalue = [0, 0, 0, 0, 1, 0, 0]'),\n",
       " Text(0.7033707865168539, 0.6730769230769231, 'gini = 0.0\\nsamples = 1\\nvalue = [1, 0, 0, 0, 0, 0, 0]'),\n",
       " Text(0.7213483146067415, 0.7115384615384616, 'X[0] <= 1.071\\ngini = 0.32\\nsamples = 5\\nvalue = [0, 0, 0, 1, 4, 0, 0]'),\n",
       " Text(0.7153558052434457, 0.6730769230769231, 'X[0] <= 1.059\\ngini = 0.5\\nsamples = 2\\nvalue = [0, 0, 0, 1, 1, 0, 0]'),\n",
       " Text(0.7093632958801498, 0.6346153846153846, 'gini = 0.0\\nsamples = 1\\nvalue = [0, 0, 0, 0, 1, 0, 0]'),\n",
       " Text(0.7213483146067415, 0.6346153846153846, 'gini = 0.0\\nsamples = 1\\nvalue = [0, 0, 0, 1, 0, 0, 0]'),\n",
       " Text(0.7273408239700374, 0.6730769230769231, 'gini = 0.0\\nsamples = 3\\nvalue = [0, 0, 0, 0, 3, 0, 0]'),\n",
       " Text(0.7393258426966293, 0.75, 'X[0] <= 1.275\\ngini = 0.5\\nsamples = 2\\nvalue = [0, 0, 0, 1, 0, 1, 0]'),\n",
       " Text(0.7333333333333333, 0.7115384615384616, 'gini = 0.0\\nsamples = 1\\nvalue = [0, 0, 0, 0, 0, 1, 0]'),\n",
       " Text(0.7453183520599251, 0.7115384615384616, 'gini = 0.0\\nsamples = 1\\nvalue = [0, 0, 0, 1, 0, 0, 0]'),\n",
       " Text(0.8831460674157303, 0.8269230769230769, 'X[0] <= 0.794\\ngini = 0.811\\nsamples = 43\\nvalue = [5, 9, 11, 9, 4, 5, 0]'),\n",
       " Text(0.8202247191011236, 0.7884615384615384, 'X[0] <= 0.52\\ngini = 0.784\\nsamples = 26\\nvalue = [5, 6, 8, 2, 1, 4, 0]'),\n",
       " Text(0.7782771535580524, 0.75, 'X[0] <= 0.38\\ngini = 0.757\\nsamples = 13\\nvalue = [4, 4, 2, 1, 0, 2, 0]'),\n",
       " Text(0.7573033707865169, 0.7115384615384616, 'X[0] <= 0.285\\ngini = 0.64\\nsamples = 5\\nvalue = [1, 0, 2, 0, 0, 2, 0]'),\n",
       " Text(0.751310861423221, 0.6730769230769231, 'gini = 0.0\\nsamples = 1\\nvalue = [1, 0, 0, 0, 0, 0, 0]'),\n",
       " Text(0.7632958801498128, 0.6730769230769231, 'X[1] <= 1.308\\ngini = 0.5\\nsamples = 4\\nvalue = [0, 0, 2, 0, 0, 2, 0]'),\n",
       " Text(0.7573033707865169, 0.6346153846153846, 'X[0] <= 0.344\\ngini = 0.444\\nsamples = 3\\nvalue = [0, 0, 1, 0, 0, 2, 0]'),\n",
       " Text(0.751310861423221, 0.5961538461538461, 'gini = 0.0\\nsamples = 1\\nvalue = [0, 0, 0, 0, 0, 1, 0]'),\n",
       " Text(0.7632958801498128, 0.5961538461538461, 'X[0] <= 0.364\\ngini = 0.5\\nsamples = 2\\nvalue = [0, 0, 1, 0, 0, 1, 0]'),\n",
       " Text(0.7573033707865169, 0.5576923076923077, 'gini = 0.0\\nsamples = 1\\nvalue = [0, 0, 1, 0, 0, 0, 0]'),\n",
       " Text(0.7692883895131086, 0.5576923076923077, 'gini = 0.0\\nsamples = 1\\nvalue = [0, 0, 0, 0, 0, 1, 0]'),\n",
       " Text(0.7692883895131086, 0.6346153846153846, 'gini = 0.0\\nsamples = 1\\nvalue = [0, 0, 1, 0, 0, 0, 0]'),\n",
       " Text(0.799250936329588, 0.7115384615384616, 'X[0] <= 0.453\\ngini = 0.594\\nsamples = 8\\nvalue = [3, 4, 0, 1, 0, 0, 0]'),\n",
       " Text(0.7872659176029962, 0.6730769230769231, 'X[0] <= 0.387\\ngini = 0.5\\nsamples = 6\\nvalue = [3, 3, 0, 0, 0, 0, 0]'),\n",
       " Text(0.7812734082397004, 0.6346153846153846, 'gini = 0.0\\nsamples = 1\\nvalue = [0, 1, 0, 0, 0, 0, 0]'),\n",
       " Text(0.7932584269662921, 0.6346153846153846, 'X[0] <= 0.395\\ngini = 0.48\\nsamples = 5\\nvalue = [3, 2, 0, 0, 0, 0, 0]'),\n",
       " Text(0.7872659176029962, 0.5961538461538461, 'gini = 0.0\\nsamples = 1\\nvalue = [1, 0, 0, 0, 0, 0, 0]'),\n",
       " Text(0.799250936329588, 0.5961538461538461, 'X[0] <= 0.401\\ngini = 0.5\\nsamples = 4\\nvalue = [2, 2, 0, 0, 0, 0, 0]'),\n",
       " Text(0.7932584269662921, 0.5576923076923077, 'gini = 0.0\\nsamples = 1\\nvalue = [0, 1, 0, 0, 0, 0, 0]'),\n",
       " Text(0.8052434456928839, 0.5576923076923077, 'X[0] <= 0.413\\ngini = 0.444\\nsamples = 3\\nvalue = [2, 1, 0, 0, 0, 0, 0]'),\n",
       " Text(0.799250936329588, 0.5192307692307693, 'gini = 0.0\\nsamples = 1\\nvalue = [1, 0, 0, 0, 0, 0, 0]'),\n",
       " Text(0.8112359550561797, 0.5192307692307693, 'X[0] <= 0.424\\ngini = 0.5\\nsamples = 2\\nvalue = [1, 1, 0, 0, 0, 0, 0]'),\n",
       " Text(0.8052434456928839, 0.4807692307692308, 'gini = 0.0\\nsamples = 1\\nvalue = [0, 1, 0, 0, 0, 0, 0]'),\n",
       " Text(0.8172284644194756, 0.4807692307692308, 'gini = 0.0\\nsamples = 1\\nvalue = [1, 0, 0, 0, 0, 0, 0]'),\n",
       " Text(0.8112359550561797, 0.6730769230769231, 'X[0] <= 0.49\\ngini = 0.5\\nsamples = 2\\nvalue = [0, 1, 0, 1, 0, 0, 0]'),\n",
       " Text(0.8052434456928839, 0.6346153846153846, 'gini = 0.0\\nsamples = 1\\nvalue = [0, 0, 0, 1, 0, 0, 0]'),\n",
       " Text(0.8172284644194756, 0.6346153846153846, 'gini = 0.0\\nsamples = 1\\nvalue = [0, 1, 0, 0, 0, 0, 0]'),\n",
       " Text(0.8621722846441947, 0.75, 'X[1] <= 1.165\\ngini = 0.722\\nsamples = 13\\nvalue = [1, 2, 6, 1, 1, 2, 0]'),\n",
       " Text(0.8411985018726592, 0.7115384615384616, 'X[1] <= 0.879\\ngini = 0.5\\nsamples = 6\\nvalue = [1, 0, 4, 0, 1, 0, 0]'),\n",
       " Text(0.8352059925093633, 0.6730769230769231, 'X[0] <= 0.606\\ngini = 0.625\\nsamples = 4\\nvalue = [1, 0, 2, 0, 1, 0, 0]'),\n",
       " Text(0.8292134831460675, 0.6346153846153846, 'gini = 0.0\\nsamples = 1\\nvalue = [0, 0, 1, 0, 0, 0, 0]'),\n",
       " Text(0.8411985018726592, 0.6346153846153846, 'X[0] <= 0.652\\ngini = 0.667\\nsamples = 3\\nvalue = [1, 0, 1, 0, 1, 0, 0]'),\n",
       " Text(0.8352059925093633, 0.5961538461538461, 'gini = 0.0\\nsamples = 1\\nvalue = [1, 0, 0, 0, 0, 0, 0]'),\n",
       " Text(0.8471910112359551, 0.5961538461538461, 'X[0] <= 0.682\\ngini = 0.5\\nsamples = 2\\nvalue = [0, 0, 1, 0, 1, 0, 0]'),\n",
       " Text(0.8411985018726592, 0.5576923076923077, 'gini = 0.0\\nsamples = 1\\nvalue = [0, 0, 0, 0, 1, 0, 0]'),\n",
       " Text(0.853183520599251, 0.5576923076923077, 'gini = 0.0\\nsamples = 1\\nvalue = [0, 0, 1, 0, 0, 0, 0]'),\n",
       " Text(0.8471910112359551, 0.6730769230769231, 'gini = 0.0\\nsamples = 2\\nvalue = [0, 0, 2, 0, 0, 0, 0]'),\n",
       " Text(0.8831460674157303, 0.7115384615384616, 'X[0] <= 0.647\\ngini = 0.735\\nsamples = 7\\nvalue = [0, 2, 2, 1, 0, 2, 0]'),\n",
       " Text(0.8711610486891386, 0.6730769230769231, 'X[1] <= 1.451\\ngini = 0.444\\nsamples = 3\\nvalue = [0, 0, 2, 1, 0, 0, 0]'),\n",
       " Text(0.8651685393258427, 0.6346153846153846, 'X[0] <= 0.619\\ngini = 0.5\\nsamples = 2\\nvalue = [0, 0, 1, 1, 0, 0, 0]'),\n",
       " Text(0.8591760299625468, 0.5961538461538461, 'gini = 0.0\\nsamples = 1\\nvalue = [0, 0, 0, 1, 0, 0, 0]'),\n",
       " Text(0.8711610486891386, 0.5961538461538461, 'gini = 0.0\\nsamples = 1\\nvalue = [0, 0, 1, 0, 0, 0, 0]'),\n",
       " Text(0.8771535580524344, 0.6346153846153846, 'gini = 0.0\\nsamples = 1\\nvalue = [0, 0, 1, 0, 0, 0, 0]'),\n",
       " Text(0.8951310861423221, 0.6730769230769231, 'X[0] <= 0.676\\ngini = 0.5\\nsamples = 4\\nvalue = [0, 2, 0, 0, 0, 2, 0]'),\n",
       " Text(0.8891385767790262, 0.6346153846153846, 'gini = 0.0\\nsamples = 1\\nvalue = [0, 1, 0, 0, 0, 0, 0]'),\n",
       " Text(0.9011235955056179, 0.6346153846153846, 'X[0] <= 0.706\\ngini = 0.444\\nsamples = 3\\nvalue = [0, 1, 0, 0, 0, 2, 0]'),\n",
       " Text(0.8951310861423221, 0.5961538461538461, 'gini = 0.0\\nsamples = 1\\nvalue = [0, 0, 0, 0, 0, 1, 0]'),\n",
       " Text(0.9071161048689138, 0.5961538461538461, 'X[0] <= 0.739\\ngini = 0.5\\nsamples = 2\\nvalue = [0, 1, 0, 0, 0, 1, 0]'),\n",
       " Text(0.9011235955056179, 0.5576923076923077, 'gini = 0.0\\nsamples = 1\\nvalue = [0, 1, 0, 0, 0, 0, 0]'),\n",
       " Text(0.9131086142322098, 0.5576923076923077, 'gini = 0.0\\nsamples = 1\\nvalue = [0, 0, 0, 0, 0, 1, 0]'),\n",
       " Text(0.946067415730337, 0.7884615384615384, 'X[0] <= 1.141\\ngini = 0.734\\nsamples = 17\\nvalue = [0, 3, 3, 7, 3, 1, 0]'),\n",
       " Text(0.9250936329588015, 0.75, 'X[0] <= 0.869\\ngini = 0.653\\nsamples = 12\\nvalue = [0, 3, 0, 6, 2, 1, 0]'),\n",
       " Text(0.9131086142322098, 0.7115384615384616, 'X[1] <= 1.165\\ngini = 0.444\\nsamples = 3\\nvalue = [0, 0, 0, 1, 2, 0, 0]'),\n",
       " Text(0.9071161048689138, 0.6730769230769231, 'gini = 0.0\\nsamples = 2\\nvalue = [0, 0, 0, 0, 2, 0, 0]'),\n",
       " Text(0.9191011235955057, 0.6730769230769231, 'gini = 0.0\\nsamples = 1\\nvalue = [0, 0, 0, 1, 0, 0, 0]'),\n",
       " Text(0.9370786516853933, 0.7115384615384616, 'X[1] <= 0.879\\ngini = 0.568\\nsamples = 9\\nvalue = [0, 3, 0, 5, 0, 1, 0]'),\n",
       " Text(0.9310861423220974, 0.6730769230769231, 'X[0] <= 0.897\\ngini = 0.611\\nsamples = 6\\nvalue = [0, 3, 0, 2, 0, 1, 0]'),\n",
       " Text(0.9250936329588015, 0.6346153846153846, 'gini = 0.0\\nsamples = 1\\nvalue = [0, 0, 0, 1, 0, 0, 0]'),\n",
       " Text(0.9370786516853933, 0.6346153846153846, 'X[0] <= 1.065\\ngini = 0.56\\nsamples = 5\\nvalue = [0, 3, 0, 1, 0, 1, 0]'),\n",
       " Text(0.9310861423220974, 0.5961538461538461, 'X[0] <= 0.915\\ngini = 0.375\\nsamples = 4\\nvalue = [0, 3, 0, 0, 0, 1, 0]'),\n",
       " Text(0.9250936329588015, 0.5576923076923077, 'gini = 0.0\\nsamples = 2\\nvalue = [0, 2, 0, 0, 0, 0, 0]'),\n",
       " Text(0.9370786516853933, 0.5576923076923077, 'X[0] <= 0.956\\ngini = 0.5\\nsamples = 2\\nvalue = [0, 1, 0, 0, 0, 1, 0]'),\n",
       " Text(0.9310861423220974, 0.5192307692307693, 'gini = 0.0\\nsamples = 1\\nvalue = [0, 0, 0, 0, 0, 1, 0]'),\n",
       " Text(0.9430711610486892, 0.5192307692307693, 'gini = 0.0\\nsamples = 1\\nvalue = [0, 1, 0, 0, 0, 0, 0]'),\n",
       " Text(0.9430711610486892, 0.5961538461538461, 'gini = 0.0\\nsamples = 1\\nvalue = [0, 0, 0, 1, 0, 0, 0]'),\n",
       " Text(0.9430711610486892, 0.6730769230769231, 'gini = 0.0\\nsamples = 3\\nvalue = [0, 0, 0, 3, 0, 0, 0]'),\n",
       " Text(0.9670411985018726, 0.75, 'X[0] <= 1.247\\ngini = 0.56\\nsamples = 5\\nvalue = [0, 0, 3, 1, 1, 0, 0]'),\n",
       " Text(0.9610486891385768, 0.7115384615384616, 'X[0] <= 1.179\\ngini = 0.375\\nsamples = 4\\nvalue = [0, 0, 3, 1, 0, 0, 0]'),\n",
       " Text(0.9550561797752809, 0.6730769230769231, 'gini = 0.0\\nsamples = 2\\nvalue = [0, 0, 2, 0, 0, 0, 0]'),\n",
       " Text(0.9670411985018726, 0.6730769230769231, 'X[1] <= 1.308\\ngini = 0.5\\nsamples = 2\\nvalue = [0, 0, 1, 1, 0, 0, 0]'),\n",
       " Text(0.9610486891385768, 0.6346153846153846, 'gini = 0.0\\nsamples = 1\\nvalue = [0, 0, 0, 1, 0, 0, 0]'),\n",
       " Text(0.9730337078651685, 0.6346153846153846, 'gini = 0.0\\nsamples = 1\\nvalue = [0, 0, 1, 0, 0, 0, 0]'),\n",
       " Text(0.9730337078651685, 0.7115384615384616, 'gini = 0.0\\nsamples = 1\\nvalue = [0, 0, 0, 0, 1, 0, 0]'),\n",
       " Text(0.9760299625468165, 0.8653846153846154, 'X[1] <= 0.879\\ngini = 0.5\\nsamples = 10\\nvalue = [0, 0, 0, 0, 5, 5, 0]'),\n",
       " Text(0.9640449438202248, 0.8269230769230769, 'X[0] <= 2.13\\ngini = 0.32\\nsamples = 5\\nvalue = [0, 0, 0, 0, 1, 4, 0]'),\n",
       " Text(0.9580524344569289, 0.7884615384615384, 'gini = 0.0\\nsamples = 4\\nvalue = [0, 0, 0, 0, 0, 4, 0]'),\n",
       " Text(0.9700374531835206, 0.7884615384615384, 'gini = 0.0\\nsamples = 1\\nvalue = [0, 0, 0, 0, 1, 0, 0]'),\n",
       " Text(0.9880149812734083, 0.8269230769230769, 'X[0] <= 2.096\\ngini = 0.32\\nsamples = 5\\nvalue = [0, 0, 0, 0, 4, 1, 0]'),\n",
       " Text(0.9820224719101124, 0.7884615384615384, 'gini = 0.0\\nsamples = 4\\nvalue = [0, 0, 0, 0, 4, 0, 0]'),\n",
       " Text(0.9940074906367041, 0.7884615384615384, 'gini = 0.0\\nsamples = 1\\nvalue = [0, 0, 0, 0, 0, 1, 0]')]"
      ]
     },
     "execution_count": 142,
     "metadata": {},
     "output_type": "execute_result"
    },
    {
     "data": {
      "image/png": "[encoded data removed]",
      "text/plain": [
       "<Figure size 1440x1152 with 1 Axes>"
      ]
     },
     "metadata": {
      "needs_background": "light"
     },
     "output_type": "display_data"
    }
   ],
   "source": [
    "#Plot the tree diagram\n",
    "plt.figure(figsize=(20,16))\n",
    "\n",
    "tree.plot_tree(treeModel.fit(X_train, y_train)) "
   ]
  },
  {
   "cell_type": "code",
   "execution_count": 150,
   "id": "221aa645",
   "metadata": {},
   "outputs": [
    {
     "name": "stdout",
     "output_type": "stream",
     "text": [
      "Accuracy: 0.2818181818181818\n"
     ]
    }
   ],
   "source": [
    "#Updated model with new parameters\n",
    "treeModel = DecisionTreeClassifier(random_state=2,criterion=\"entropy\", max_depth=3)\n",
    "\n",
    "treeModel = treeModel.fit(X_train,y_train)\n",
    "\n",
    "y_pred = treeModel.predict(X_test)\n",
    "\n",
    "print(\"Accuracy:\",metrics.accuracy_score(y_test, y_pred))"
   ]
  },
  {
   "cell_type": "code",
   "execution_count": 151,
   "id": "0345c36c",
   "metadata": {
    "scrolled": true
   },
   "outputs": [
    {
     "data": {
      "text/plain": [
       "[Text(0.5, 0.875, 'X[0] <= -0.054\\nentropy = 2.805\\nsamples = 255\\nvalue = [36, 37, 34, 38, 37, 40, 33]'),\n",
       " Text(0.25, 0.625, 'X[0] <= -0.876\\nentropy = 2.502\\nsamples = 102\\nvalue = [24, 17, 9, 7, 5, 7, 33]'),\n",
       " Text(0.125, 0.375, 'X[1] <= -1.409\\nentropy = 1.94\\nsamples = 44\\nvalue = [8, 1, 3, 1, 4, 2, 25]'),\n",
       " Text(0.0625, 0.125, 'entropy = 2.197\\nsamples = 9\\nvalue = [1, 0, 2, 1, 2, 0, 3]'),\n",
       " Text(0.1875, 0.125, 'entropy = 1.65\\nsamples = 35\\nvalue = [7, 1, 1, 0, 2, 2, 22]'),\n",
       " Text(0.375, 0.375, 'X[0] <= -0.44\\nentropy = 2.502\\nsamples = 58\\nvalue = [16, 16, 6, 6, 1, 5, 8]'),\n",
       " Text(0.3125, 0.125, 'entropy = 2.507\\nsamples = 24\\nvalue = [4, 4, 2, 6, 0, 3, 5]'),\n",
       " Text(0.4375, 0.125, 'entropy = 2.123\\nsamples = 34\\nvalue = [12, 12, 4, 0, 1, 2, 3]'),\n",
       " Text(0.75, 0.625, 'X[0] <= 0.242\\nentropy = 2.515\\nsamples = 153\\nvalue = [12, 20, 25, 31, 32, 33, 0]'),\n",
       " Text(0.625, 0.375, 'X[0] <= 0.071\\nentropy = 2.28\\nsamples = 31\\nvalue = [5, 7, 7, 0, 8, 4, 0]'),\n",
       " Text(0.5625, 0.125, 'entropy = 1.884\\nsamples = 13\\nvalue = [2, 4, 0, 0, 5, 2, 0]'),\n",
       " Text(0.6875, 0.125, 'entropy = 2.175\\nsamples = 18\\nvalue = [3, 3, 7, 0, 3, 2, 0]'),\n",
       " Text(0.875, 0.375, 'X[0] <= 1.317\\nentropy = 2.445\\nsamples = 122\\nvalue = [7, 13, 18, 31, 24, 29, 0]'),\n",
       " Text(0.8125, 0.125, 'entropy = 2.458\\nsamples = 112\\nvalue = [7, 13, 18, 31, 19, 24, 0]'),\n",
       " Text(0.9375, 0.125, 'entropy = 1.0\\nsamples = 10\\nvalue = [0, 0, 0, 0, 5, 5, 0]')]"
      ]
     },
     "execution_count": 151,
     "metadata": {},
     "output_type": "execute_result"
    },
    {
     "data": {
      "image/png": "[encoded data removed]",
      "text/plain": [
       "<Figure size 1440x1152 with 1 Axes>"
      ]
     },
     "metadata": {
      "needs_background": "light"
     },
     "output_type": "display_data"
    }
   ],
   "source": [
    "#Updated tree\n",
    "plt.figure(figsize=(20,16))\n",
    "\n",
    "tree.plot_tree(treeModel.fit(X_train, y_train))"
   ]
  },
  {
   "cell_type": "markdown",
   "id": "68a12aaa",
   "metadata": {},
   "source": [
    "# 5. References"
   ]
  },
  {
   "cell_type": "markdown",
   "id": "49ce5fff",
   "metadata": {},
   "source": [
    "https://www.statology.org/poisson-distribution-python/#:~:text=The%20Poisson%20distribution%20describes%20the,*%20e–%20λ%20%2F%20k! <br>\n",
    "https://www.youtube.com/watch?v=8A7L0GsBiLQ <br>\n",
    "https://www.youtube.com/watch?v=IUcvPo2WCB8&t=394s <br>\n",
    "https://www.youtube.com/watch?v=q90UDEgYqeI&t=2892s <br>"
   ]
  },
  {
   "cell_type": "code",
   "execution_count": null,
   "id": "fb7268b0",
   "metadata": {},
   "outputs": [],
   "source": []
  }
 ],
 "metadata": {
  "kernelspec": {
   "display_name": "Python 3 (ipykernel)",
   "language": "python",
   "name": "python3"
  },
  "language_info": {
   "codemirror_mode": {
    "name": "ipython",
    "version": 3
   },
   "file_extension": ".py",
   "mimetype": "text/x-python",
   "name": "python",
   "nbconvert_exporter": "python",
   "pygments_lexer": "ipython3",
   "version": "3.9.12"
  }
 },
 "nbformat": 4,
 "nbformat_minor": 5
}
